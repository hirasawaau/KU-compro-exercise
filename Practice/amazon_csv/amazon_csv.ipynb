{
 "cells": [
  {
   "cell_type": "code",
   "execution_count": 29,
   "source": [
    "from typing import Dict,List"
   ],
   "outputs": [],
   "metadata": {}
  },
  {
   "cell_type": "markdown",
   "source": [
    "# Read File From Amazon Order"
   ],
   "metadata": {}
  },
  {
   "cell_type": "code",
   "execution_count": 11,
   "source": [
    "with open('amazon-orders.csv',encoding= 'utf8') as csv:\n",
    "    rawData = csv.read().split('\\n')[3:]"
   ],
   "outputs": [],
   "metadata": {}
  },
  {
   "cell_type": "code",
   "execution_count": 14,
   "source": [
    "data_keys = rawData[0].split(',')\n",
    "data_values = list(map(lambda da:da.split(','),rawData[1:]))"
   ],
   "outputs": [],
   "metadata": {}
  },
  {
   "cell_type": "code",
   "execution_count": 17,
   "source": [
    "datas = [dict(zip(data_keys,value))for value in data_values]  "
   ],
   "outputs": [],
   "metadata": {}
  },
  {
   "cell_type": "markdown",
   "source": [
    "# #1 How much had I spent each day?"
   ],
   "metadata": {}
  },
  {
   "cell_type": "code",
   "execution_count": 27,
   "source": [
    "cleanData:Dict[str,Dict[str,str]] = {}\n",
    "\n",
    "for data in datas:\n",
    "    date = data['Order Date']\n",
    "    spent = float(data['Total Charged'][1:])\n",
    "    promotion = float(data['Total Promotions'][1:])\n",
    "    try:\n",
    "        cleanData[date]['Total Spent']+=spent\n",
    "        cleanData[date]['Total Promotions']+=promotion\n",
    "    except:\n",
    "        cleanData.setdefault(date,{'Total Spent':spent,'Total Promotions':promotion})"
   ],
   "outputs": [],
   "metadata": {}
  },
  {
   "cell_type": "markdown",
   "source": [
    "# #2 How much and which day had I got the most promotion amount?"
   ],
   "metadata": {}
  },
  {
   "cell_type": "code",
   "execution_count": 32,
   "source": [
    "most_promotion = max(cleanData.items(),key=lambda d:d[1]['Total Promotions']);\n",
    "most_promotion_data = {most_promotion[0],most_promotion[1]['Total Promotions']}\n"
   ],
   "outputs": [],
   "metadata": {}
  },
  {
   "cell_type": "code",
   "execution_count": 34,
   "source": [
    "most_promotion_data"
   ],
   "outputs": [
    {
     "output_type": "execute_result",
     "data": {
      "text/plain": [
       "{'07/30/19', 20.0}"
      ]
     },
     "metadata": {},
     "execution_count": 34
    }
   ],
   "metadata": {}
  }
 ],
 "metadata": {
  "orig_nbformat": 4,
  "language_info": {
   "name": "python",
   "version": "3.6.13",
   "mimetype": "text/x-python",
   "codemirror_mode": {
    "name": "ipython",
    "version": 3
   },
   "pygments_lexer": "ipython3",
   "nbconvert_exporter": "python",
   "file_extension": ".py"
  },
  "kernelspec": {
   "name": "python3",
   "display_name": "Python 3.6.13 64-bit ('python-cpe': conda)"
  },
  "interpreter": {
   "hash": "8455ba0420cebb81d27799f55a09fb3e2c8c1644a8de5e58d4aa74be540b8105"
  }
 },
 "nbformat": 4,
 "nbformat_minor": 2
}