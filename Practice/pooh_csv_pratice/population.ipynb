{
 "cells": [
  {
   "cell_type": "markdown",
   "source": [
    "[https://raw.githubusercontent.com/kuntoto/01204111_CPExx/main/lecture08/Countries.csv](https://raw.githubusercontent.com/kuntoto/01204111_CPExx/main/lecture08/Countries.csv)\n",
    "- 1.Population of EU\n",
    "- 2.Population by first letter of the country name [A,B,C,D,...] SORT BY COUNTRY NAME A->Z \n",
    "- 3.Number of country that is by coastline (coastline = yes)\n",
    "- 4.Countries with  population > 50 SORT BY POPULATION (DESCENDING ORDER)"
   ],
   "metadata": {}
  },
  {
   "cell_type": "code",
   "execution_count": 17,
   "source": [
    "with open('cities.csv') as file:\n",
    "    rawDatas = file.read().split('\\n')\n",
    "\n",
    "datas = [dict(zip(rawDatas[0].split(','),rawData.split(','))) for rawData in rawDatas[1:]]\n"
   ],
   "outputs": [],
   "metadata": {}
  },
  {
   "cell_type": "code",
   "execution_count": 18,
   "source": [
    "datas"
   ],
   "outputs": [
    {
     "output_type": "execute_result",
     "data": {
      "text/plain": [
       "[{'country': 'Albania', 'population': '2.9', 'EU': 'no', 'coastline': 'yes'},\n",
       " {'country': 'Andorra', 'population': '0.07', 'EU': 'no', 'coastline': 'no'},\n",
       " {'country': 'Austria', 'population': '8.57', 'EU': 'yes', 'coastline': 'no'},\n",
       " {'country': 'Belarus', 'population': '9.48', 'EU': 'no', 'coastline': 'no'},\n",
       " {'country': 'Belgium',\n",
       "  'population': '11.37',\n",
       "  'EU': 'yes',\n",
       "  'coastline': 'yes'},\n",
       " {'country': 'Bosnia and Herzegovina',\n",
       "  'population': '3.8',\n",
       "  'EU': 'no',\n",
       "  'coastline': 'yes'},\n",
       " {'country': 'Bulgaria', 'population': '7.1', 'EU': 'yes', 'coastline': 'yes'},\n",
       " {'country': 'Croatia', 'population': '4.23', 'EU': 'yes', 'coastline': 'yes'},\n",
       " {'country': 'Cyprus', 'population': '1.18', 'EU': 'yes', 'coastline': 'yes'},\n",
       " {'country': 'Czech Republic',\n",
       "  'population': '10.55',\n",
       "  'EU': 'yes',\n",
       "  'coastline': 'no'},\n",
       " {'country': 'Denmark', 'population': '5.69', 'EU': 'yes', 'coastline': 'yes'},\n",
       " {'country': 'Estonia', 'population': '1.31', 'EU': 'yes', 'coastline': 'yes'},\n",
       " {'country': 'Finland', 'population': '5.52', 'EU': 'yes', 'coastline': 'yes'},\n",
       " {'country': 'France', 'population': '64.67', 'EU': 'yes', 'coastline': 'yes'},\n",
       " {'country': 'Germany',\n",
       "  'population': '80.68',\n",
       "  'EU': 'yes',\n",
       "  'coastline': 'yes'},\n",
       " {'country': 'Greece', 'population': '10.92', 'EU': 'yes', 'coastline': 'yes'},\n",
       " {'country': 'Hungary', 'population': '9.82', 'EU': 'yes', 'coastline': 'no'},\n",
       " {'country': 'Iceland', 'population': '0.33', 'EU': 'no', 'coastline': 'yes'},\n",
       " {'country': 'Ireland', 'population': '4.71', 'EU': 'yes', 'coastline': 'yes'},\n",
       " {'country': 'Italy', 'population': '59.8', 'EU': 'yes', 'coastline': 'yes'},\n",
       " {'country': 'Kosovo', 'population': '1.91', 'EU': 'no', 'coastline': 'no'},\n",
       " {'country': 'Latvia', 'population': '1.96', 'EU': 'yes', 'coastline': 'yes'},\n",
       " {'country': 'Liechtenstein',\n",
       "  'population': '0.04',\n",
       "  'EU': 'no',\n",
       "  'coastline': 'no'},\n",
       " {'country': 'Lithuania',\n",
       "  'population': '2.85',\n",
       "  'EU': 'yes',\n",
       "  'coastline': 'yes'},\n",
       " {'country': 'Luxembourg',\n",
       "  'population': '0.58',\n",
       "  'EU': 'yes',\n",
       "  'coastline': 'no'},\n",
       " {'country': 'Macedonia', 'population': '2.08', 'EU': 'no', 'coastline': 'no'},\n",
       " {'country': 'Moldova', 'population': '4.06', 'EU': 'no', 'coastline': 'no'},\n",
       " {'country': 'Montenegro',\n",
       "  'population': '0.63',\n",
       "  'EU': 'no',\n",
       "  'coastline': 'yes'},\n",
       " {'country': 'Netherlands',\n",
       "  'population': '16.98',\n",
       "  'EU': 'yes',\n",
       "  'coastline': 'yes'},\n",
       " {'country': 'Norway', 'population': '5.27', 'EU': 'no', 'coastline': 'yes'},\n",
       " {'country': 'Poland', 'population': '38.59', 'EU': 'yes', 'coastline': 'yes'},\n",
       " {'country': 'Portugal',\n",
       "  'population': '10.3',\n",
       "  'EU': 'yes',\n",
       "  'coastline': 'yes'},\n",
       " {'country': 'Romania',\n",
       "  'population': '19.37',\n",
       "  'EU': 'yes',\n",
       "  'coastline': 'yes'},\n",
       " {'country': 'Serbia', 'population': '8.81', 'EU': 'no', 'coastline': 'no'},\n",
       " {'country': 'Slovakia', 'population': '5.43', 'EU': 'yes', 'coastline': 'no'},\n",
       " {'country': 'Slovenia',\n",
       "  'population': '2.07',\n",
       "  'EU': 'yes',\n",
       "  'coastline': 'yes'},\n",
       " {'country': 'Spain', 'population': '46.06', 'EU': 'yes', 'coastline': 'yes'},\n",
       " {'country': 'Sweden', 'population': '9.85', 'EU': 'yes', 'coastline': 'yes'},\n",
       " {'country': 'Switzerland',\n",
       "  'population': '8.38',\n",
       "  'EU': 'no',\n",
       "  'coastline': 'no'},\n",
       " {'country': 'Turkey', 'population': '79.62', 'EU': 'no', 'coastline': 'yes'},\n",
       " {'country': 'Ukraine', 'population': '44.62', 'EU': 'no', 'coastline': 'yes'},\n",
       " {'country': 'United Kingdom',\n",
       "  'population': '65.11',\n",
       "  'EU': 'yes',\n",
       "  'coastline': 'yes'}]"
      ]
     },
     "metadata": {},
     "execution_count": 18
    }
   ],
   "metadata": {}
  },
  {
   "cell_type": "markdown",
   "source": [
    "## 1. Population of Eu"
   ],
   "metadata": {}
  },
  {
   "cell_type": "code",
   "execution_count": 19,
   "source": [
    "eu_population = sum([float(data['population']) for data in datas if data['EU'] == 'yes'])"
   ],
   "outputs": [],
   "metadata": {}
  },
  {
   "cell_type": "code",
   "execution_count": 20,
   "source": [
    "eu_population"
   ],
   "outputs": [
    {
     "output_type": "execute_result",
     "data": {
      "text/plain": [
       "505.2700000000001"
      ]
     },
     "metadata": {},
     "execution_count": 20
    }
   ],
   "metadata": {}
  },
  {
   "cell_type": "markdown",
   "source": [
    "## 2.Population by first letter of the country name [A,B,C,D,...] SORT BY COUNTRY NAME A->Z"
   ],
   "metadata": {}
  },
  {
   "cell_type": "code",
   "execution_count": 21,
   "source": [
    "first_letter_country_name = dict([chr(i),0] for i in range(ord('A'),ord('Z')+1))\n",
    "\n",
    "for data in datas:\n",
    "    first_letter_country_name[data['country'][0]] += float(data['population'])"
   ],
   "outputs": [],
   "metadata": {}
  },
  {
   "cell_type": "code",
   "execution_count": 23,
   "source": [
    "first_letter_country_name"
   ],
   "outputs": [
    {
     "output_type": "execute_result",
     "data": {
      "text/plain": [
       "{'A': 11.54,\n",
       " 'B': 31.75,\n",
       " 'C': 15.96,\n",
       " 'D': 5.69,\n",
       " 'E': 1.31,\n",
       " 'F': 70.19,\n",
       " 'G': 91.60000000000001,\n",
       " 'H': 9.82,\n",
       " 'I': 64.84,\n",
       " 'J': 0,\n",
       " 'K': 1.91,\n",
       " 'L': 5.43,\n",
       " 'M': 6.77,\n",
       " 'N': 22.25,\n",
       " 'O': 0,\n",
       " 'P': 48.89,\n",
       " 'Q': 0,\n",
       " 'R': 19.37,\n",
       " 'S': 80.6,\n",
       " 'T': 79.62,\n",
       " 'U': 109.72999999999999,\n",
       " 'V': 0,\n",
       " 'W': 0,\n",
       " 'X': 0,\n",
       " 'Y': 0,\n",
       " 'Z': 0}"
      ]
     },
     "metadata": {},
     "execution_count": 23
    }
   ],
   "metadata": {}
  },
  {
   "cell_type": "markdown",
   "source": [
    "## 3.Number of country that is by coastline (coastline = yes)"
   ],
   "metadata": {}
  },
  {
   "cell_type": "code",
   "execution_count": 24,
   "source": [
    "country_coastline = len([data for data in datas if data['coastline'] == 'yes'])"
   ],
   "outputs": [],
   "metadata": {}
  },
  {
   "cell_type": "code",
   "execution_count": 25,
   "source": [
    "country_coastline"
   ],
   "outputs": [
    {
     "output_type": "execute_result",
     "data": {
      "text/plain": [
       "29"
      ]
     },
     "metadata": {},
     "execution_count": 25
    }
   ],
   "metadata": {}
  },
  {
   "cell_type": "markdown",
   "source": [
    "## 4.Countries with  population > 50 SORT BY POPULATION (DESCENDING ORDER)"
   ],
   "metadata": {}
  },
  {
   "cell_type": "code",
   "execution_count": 28,
   "source": [
    "country_population_more_than_50 = [data for data in datas if float(data['population']) > 50]\n",
    "country_population_more_than_50 = sorted(country_population_more_than_50 , key=lambda r:float(r['population']) , reverse=True)\n",
    "country_population_more_than_50"
   ],
   "outputs": [
    {
     "output_type": "execute_result",
     "data": {
      "text/plain": [
       "[{'country': 'Italy', 'population': '59.8', 'EU': 'yes', 'coastline': 'yes'},\n",
       " {'country': 'France', 'population': '64.67', 'EU': 'yes', 'coastline': 'yes'},\n",
       " {'country': 'United Kingdom',\n",
       "  'population': '65.11',\n",
       "  'EU': 'yes',\n",
       "  'coastline': 'yes'},\n",
       " {'country': 'Turkey', 'population': '79.62', 'EU': 'no', 'coastline': 'yes'},\n",
       " {'country': 'Germany',\n",
       "  'population': '80.68',\n",
       "  'EU': 'yes',\n",
       "  'coastline': 'yes'}]"
      ]
     },
     "metadata": {},
     "execution_count": 28
    }
   ],
   "metadata": {}
  }
 ],
 "metadata": {
  "orig_nbformat": 4,
  "language_info": {
   "name": "python",
   "version": "3.6.13",
   "mimetype": "text/x-python",
   "codemirror_mode": {
    "name": "ipython",
    "version": 3
   },
   "pygments_lexer": "ipython3",
   "nbconvert_exporter": "python",
   "file_extension": ".py"
  },
  "kernelspec": {
   "name": "python3",
   "display_name": "Python 3.6.13 64-bit ('python-cpe': conda)"
  },
  "interpreter": {
   "hash": "8455ba0420cebb81d27799f55a09fb3e2c8c1644a8de5e58d4aa74be540b8105"
  }
 },
 "nbformat": 4,
 "nbformat_minor": 2
}