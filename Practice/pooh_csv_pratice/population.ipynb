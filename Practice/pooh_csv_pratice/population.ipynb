{
 "cells": [
  {
   "cell_type": "markdown",
   "source": [
    "[https://raw.githubusercontent.com/kuntoto/01204111_CPExx/main/lecture08/Countries.csv](https://raw.githubusercontent.com/kuntoto/01204111_CPExx/main/lecture08/Countries.csv)\n",
    "- 1.Population of EU\n",
    "- 2.Population by first letter of the country name [A,B,C,D,...] SORT BY COUNTRY NAME A->Z \n",
    "- 3.Number of country that is by coastline (coastline = yes)\n",
    "- 4.Countries with  population > 50 SORT BY POPULATION (DESCENDING ORDER)"
   ],
   "metadata": {}
  },
  {
   "cell_type": "code",
   "execution_count": 17,
   "source": [
    "with open('cities.csv') as file:\n",
    "    rawDatas = file.read().split('\\n')\n",
    "\n",
    "datas = [dict(zip(rawDatas[0].split(','),rawData.split(','))) for rawData in rawDatas[1:]]\n"
   ],
   "outputs": [],
   "metadata": {}
  },
  {
   "cell_type": "code",
   "execution_count": 18,
   "source": [
    "datas"
   ],
   "outputs": [
    {
     "output_type": "execute_result",
     "data": {
      "text/plain": [
       "[{'country': 'Albania', 'population': '2.9', 'EU': 'no', 'coastline': 'yes'},\n",
       " {'country': 'Andorra', 'population': '0.07', 'EU': 'no', 'coastline': 'no'},\n",
       " {'country': 'Austria', 'population': '8.57', 'EU': 'yes', 'coastline': 'no'},\n",
       " {'country': 'Belarus', 'population': '9.48', 'EU': 'no', 'coastline': 'no'},\n",
       " {'country': 'Belgium',\n",
       "  'population': '11.37',\n",
       "  'EU': 'yes',\n",
       "  'coastline': 'yes'},\n",
       " {'country': 'Bosnia and Herzegovina',\n",
       "  'population': '3.8',\n",
       "  'EU': 'no',\n",
       "  'coastline': 'yes'},\n",
       " {'country': 'Bulgaria', 'population': '7.1', 'EU': 'yes', 'coastline': 'yes'},\n",
       " {'country': 'Croatia', 'population': '4.23', 'EU': 'yes', 'coastline': 'yes'},\n",
       " {'country': 'Cyprus', 'population': '1.18', 'EU': 'yes', 'coastline': 'yes'},\n",
       " {'country': 'Czech Republic',\n",
       "  'population': '10.55',\n",
       "  'EU': 'yes',\n",
       "  'coastline': 'no'},\n",
       " {'country': 'Denmark', 'population': '5.69', 'EU': 'yes', 'coastline': 'yes'},\n",
       " {'country': 'Estonia', 'population': '1.31', 'EU': 'yes', 'coastline': 'yes'},\n",
       " {'country': 'Finland', 'population': '5.52', 'EU': 'yes', 'coastline': 'yes'},\n",
       " {'country': 'France', 'population': '64.67', 'EU': 'yes', 'coastline': 'yes'},\n",
       " {'country': 'Germany',\n",
       "  'population': '80.68',\n",
       "  'EU': 'yes',\n",
       "  'coastline': 'yes'},\n",
       " {'country': 'Greece', 'population': '10.92', 'EU': 'yes', 'coastline': 'yes'},\n",
       " {'country': 'Hungary', 'population': '9.82', 'EU': 'yes', 'coastline': 'no'},\n",
       " {'country': 'Iceland', 'population': '0.33', 'EU': 'no', 'coastline': 'yes'},\n",
       " {'country': 'Ireland', 'population': '4.71', 'EU': 'yes', 'coastline': 'yes'},\n",
       " {'country': 'Italy', 'population': '59.8', 'EU': 'yes', 'coastline': 'yes'},\n",
       " {'country': 'Kosovo', 'population': '1.91', 'EU': 'no', 'coastline': 'no'},\n",
       " {'country': 'Latvia', 'population': '1.96', 'EU': 'yes', 'coastline': 'yes'},\n",
       " {'country': 'Liechtenstein',\n",
       "  'population': '0.04',\n",
       "  'EU': 'no',\n",
       "  'coastline': 'no'},\n",
       " {'country': 'Lithuania',\n",
       "  'population': '2.85',\n",
       "  'EU': 'yes',\n",
       "  'coastline': 'yes'},\n",
       " {'country': 'Luxembourg',\n",
       "  'population': '0.58',\n",
       "  'EU': 'yes',\n",
       "  'coastline': 'no'},\n",
       " {'country': 'Macedonia', 'population': '2.08', 'EU': 'no', 'coastline': 'no'},\n",
       " {'country': 'Moldova', 'population': '4.06', 'EU': 'no', 'coastline': 'no'},\n",
       " {'country': 'Montenegro',\n",
       "  'population': '0.63',\n",
       "  'EU': 'no',\n",
       "  'coastline': 'yes'},\n",
       " {'country': 'Netherlands',\n",
       "  'population': '16.98',\n",
       "  'EU': 'yes',\n",
       "  'coastline': 'yes'},\n",
       " {'country': 'Norway', 'population': '5.27', 'EU': 'no', 'coastline': 'yes'},\n",
       " {'country': 'Poland', 'population': '38.59', 'EU': 'yes', 'coastline': 'yes'},\n",
       " {'country': 'Portugal',\n",
       "  'population': '10.3',\n",
       "  'EU': 'yes',\n",
       "  'coastline': 'yes'},\n",
       " {'country': 'Romania',\n",
       "  'population': '19.37',\n",
       "  'EU': 'yes',\n",
       "  'coastline': 'yes'},\n",
       " {'country': 'Serbia', 'population': '8.81', 'EU': 'no', 'coastline': 'no'},\n",
       " {'country': 'Slovakia', 'population': '5.43', 'EU': 'yes', 'coastline': 'no'},\n",
       " {'country': 'Slovenia',\n",
       "  'population': '2.07',\n",
       "  'EU': 'yes',\n",
       "  'coastline': 'yes'},\n",
       " {'country': 'Spain', 'population': '46.06', 'EU': 'yes', 'coastline': 'yes'},\n",
       " {'country': 'Sweden', 'population': '9.85', 'EU': 'yes', 'coastline': 'yes'},\n",
       " {'country': 'Switzerland',\n",
       "  'population': '8.38',\n",
       "  'EU': 'no',\n",
       "  'coastline': 'no'},\n",
       " {'country': 'Turkey', 'population': '79.62', 'EU': 'no', 'coastline': 'yes'},\n",
       " {'country': 'Ukraine', 'population': '44.62', 'EU': 'no', 'coastline': 'yes'},\n",
       " {'country': 'United Kingdom',\n",
       "  'population': '65.11',\n",
       "  'EU': 'yes',\n",
       "  'coastline': 'yes'}]"
      ]
     },
     "metadata": {},
     "execution_count": 18
    }
   ],
   "metadata": {}
  },
  {
   "cell_type": "markdown",
   "source": [
    "## 1. Population of Eu"
   ],
   "metadata": {}
  },
  {
   "cell_type": "code",
   "execution_count": 19,
   "source": [
    "eu_population = sum([float(data['population']) for data in datas if data['EU'] == 'yes'])"
   ],
   "outputs": [],
   "metadata": {}
  },
  {
   "cell_type": "code",
   "execution_count": 20,
   "source": [
    "eu_population"
   ],
   "outputs": [
    {
     "output_type": "execute_result",
     "data": {
      "text/plain": [
       "505.2700000000001"
      ]
     },
     "metadata": {},
     "execution_count": 20
    }
   ],
   "metadata": {}
  },
  {
   "cell_type": "markdown",
   "source": [
    "## 2.Population by first letter of the country name [A,B,C,D,...] SORT BY COUNTRY NAME A->Z"
   ],
   "metadata": {}
  },
  {
   "cell_type": "code",
   "execution_count": 31,
   "source": [
    "sortData = dict([data['country'],data['population']] for data in datas)"
   ],
   "outputs": [],
   "metadata": {}
  },
  {
   "cell_type": "code",
   "execution_count": 32,
   "source": [
    "sortData"
   ],
   "outputs": [
    {
     "output_type": "execute_result",
     "data": {
      "text/plain": [
       "{'Albania': '2.9',\n",
       " 'Andorra': '0.07',\n",
       " 'Austria': '8.57',\n",
       " 'Belarus': '9.48',\n",
       " 'Belgium': '11.37',\n",
       " 'Bosnia and Herzegovina': '3.8',\n",
       " 'Bulgaria': '7.1',\n",
       " 'Croatia': '4.23',\n",
       " 'Cyprus': '1.18',\n",
       " 'Czech Republic': '10.55',\n",
       " 'Denmark': '5.69',\n",
       " 'Estonia': '1.31',\n",
       " 'Finland': '5.52',\n",
       " 'France': '64.67',\n",
       " 'Germany': '80.68',\n",
       " 'Greece': '10.92',\n",
       " 'Hungary': '9.82',\n",
       " 'Iceland': '0.33',\n",
       " 'Ireland': '4.71',\n",
       " 'Italy': '59.8',\n",
       " 'Kosovo': '1.91',\n",
       " 'Latvia': '1.96',\n",
       " 'Liechtenstein': '0.04',\n",
       " 'Lithuania': '2.85',\n",
       " 'Luxembourg': '0.58',\n",
       " 'Macedonia': '2.08',\n",
       " 'Moldova': '4.06',\n",
       " 'Montenegro': '0.63',\n",
       " 'Netherlands': '16.98',\n",
       " 'Norway': '5.27',\n",
       " 'Poland': '38.59',\n",
       " 'Portugal': '10.3',\n",
       " 'Romania': '19.37',\n",
       " 'Serbia': '8.81',\n",
       " 'Slovakia': '5.43',\n",
       " 'Slovenia': '2.07',\n",
       " 'Spain': '46.06',\n",
       " 'Sweden': '9.85',\n",
       " 'Switzerland': '8.38',\n",
       " 'Turkey': '79.62',\n",
       " 'Ukraine': '44.62',\n",
       " 'United Kingdom': '65.11'}"
      ]
     },
     "metadata": {},
     "execution_count": 32
    }
   ],
   "metadata": {}
  },
  {
   "cell_type": "markdown",
   "source": [
    "## 3.Number of country that is by coastline (coastline = yes)"
   ],
   "metadata": {}
  },
  {
   "cell_type": "code",
   "execution_count": 24,
   "source": [
    "country_coastline = len([data for data in datas if data['coastline'] == 'yes'])"
   ],
   "outputs": [],
   "metadata": {}
  },
  {
   "cell_type": "code",
   "execution_count": 25,
   "source": [
    "country_coastline"
   ],
   "outputs": [
    {
     "output_type": "execute_result",
     "data": {
      "text/plain": [
       "29"
      ]
     },
     "metadata": {},
     "execution_count": 25
    }
   ],
   "metadata": {}
  },
  {
   "cell_type": "markdown",
   "source": [
    "## 4.Countries with  population > 50 SORT BY POPULATION (DESCENDING ORDER)"
   ],
   "metadata": {}
  },
  {
   "cell_type": "code",
   "execution_count": 29,
   "source": [
    "country_population_more_than_50 = [data for data in datas if float(data['population']) > 50]\n",
    "country_population_more_than_50 = sorted(country_population_more_than_50 , key=lambda r:float(r['population']) , reverse=True)\n",
    "country_population_more_than_50"
   ],
   "outputs": [
    {
     "output_type": "execute_result",
     "data": {
      "text/plain": [
       "[{'country': 'Germany',\n",
       "  'population': '80.68',\n",
       "  'EU': 'yes',\n",
       "  'coastline': 'yes'},\n",
       " {'country': 'Turkey', 'population': '79.62', 'EU': 'no', 'coastline': 'yes'},\n",
       " {'country': 'United Kingdom',\n",
       "  'population': '65.11',\n",
       "  'EU': 'yes',\n",
       "  'coastline': 'yes'},\n",
       " {'country': 'France', 'population': '64.67', 'EU': 'yes', 'coastline': 'yes'},\n",
       " {'country': 'Italy', 'population': '59.8', 'EU': 'yes', 'coastline': 'yes'}]"
      ]
     },
     "metadata": {},
     "execution_count": 29
    }
   ],
   "metadata": {}
  }
 ],
 "metadata": {
  "orig_nbformat": 4,
  "language_info": {
   "name": "python",
   "version": "3.6.13",
   "mimetype": "text/x-python",
   "codemirror_mode": {
    "name": "ipython",
    "version": 3
   },
   "pygments_lexer": "ipython3",
   "nbconvert_exporter": "python",
   "file_extension": ".py"
  },
  "kernelspec": {
   "name": "python3",
   "display_name": "Python 3.6.13 64-bit ('python-cpe': conda)"
  },
  "interpreter": {
   "hash": "8455ba0420cebb81d27799f55a09fb3e2c8c1644a8de5e58d4aa74be540b8105"
  }
 },
 "nbformat": 4,
 "nbformat_minor": 2
}