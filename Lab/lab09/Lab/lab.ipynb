{
 "cells": [
  {
   "cell_type": "code",
   "execution_count": null,
   "source": [],
   "outputs": [],
   "metadata": {}
  },
  {
   "cell_type": "code",
   "execution_count": 6,
   "source": [
    "from typing import Dict, List\n",
    "import json\n",
    "\n",
    "def readData(fileName:str) -> Dict[str,List[Dict[str,str]]]:\n",
    "    return json.loads(open(fileName).read().strip())\n",
    "\n",
    "datas = readData(input('Filename : '))\n",
    "\n",
    "name = input('Data : ')\n",
    "\n",
    "foundData = None\n",
    "\n",
    "for data in datas:\n",
    "    if data['name'] == name:\n",
    "        foundData = data\n",
    "        break\n",
    "\n",
    "if foundData:\n",
    "    print(f'Found in blacklist')\n",
    "    for item in foundData.items():\n",
    "        print(f'{item[0]} : {item[1]}')\n",
    "\n",
    "else:\n",
    "    print('Not found in blacklist')"
   ],
   "outputs": [
    {
     "output_type": "stream",
     "name": "stdout",
     "text": [
      "Not found in blacklist\n"
     ]
    }
   ],
   "metadata": {}
  },
  {
   "cell_type": "code",
   "execution_count": null,
   "source": [],
   "outputs": [],
   "metadata": {}
  },
  {
   "cell_type": "code",
   "execution_count": 8,
   "source": [
    "a = ['Y','P']\n",
    "\n",
    "a.sort()\n",
    "\n",
    "a"
   ],
   "outputs": [
    {
     "output_type": "execute_result",
     "data": {
      "text/plain": [
       "['P', 'Y']"
      ]
     },
     "metadata": {},
     "execution_count": 8
    }
   ],
   "metadata": {}
  },
  {
   "cell_type": "code",
   "execution_count": 2,
   "source": [
    "show = '''def showO(a):\n",
    "    for i in range(a):\n",
    "        n = []\n",
    "        d = int(a/2)\n",
    "        for i in range(1,a-1):\n",
    "            n.append(str(' '*(d)+'O'*(2*i-1)+' '*(d))*a)\n",
    "            d-=1\n",
    "        for i in n: \n",
    "            print(i)\n",
    "        for i in n[-2:-len(n)-1:-1]:print(i)'''\n",
    "\n",
    "try:\n",
    "    with open('printO.py','x') as file:\n",
    "        file.write(show)\n",
    "except:\n",
    "    pass\n",
    "    \n",
    "import printO\n",
    "\n",
    "printO.showO(int(input()))"
   ],
   "outputs": [
    {
     "output_type": "stream",
     "name": "stdout",
     "text": [
      "  O    O    O    O    O  \n",
      " OOO  OOO  OOO  OOO  OOO \n",
      "OOOOOOOOOOOOOOOOOOOOOOOOO\n",
      " OOO  OOO  OOO  OOO  OOO \n",
      "  O    O    O    O    O  \n",
      "  O    O    O    O    O  \n",
      " OOO  OOO  OOO  OOO  OOO \n",
      "OOOOOOOOOOOOOOOOOOOOOOOOO\n",
      " OOO  OOO  OOO  OOO  OOO \n",
      "  O    O    O    O    O  \n",
      "  O    O    O    O    O  \n",
      " OOO  OOO  OOO  OOO  OOO \n",
      "OOOOOOOOOOOOOOOOOOOOOOOOO\n",
      " OOO  OOO  OOO  OOO  OOO \n",
      "  O    O    O    O    O  \n",
      "  O    O    O    O    O  \n",
      " OOO  OOO  OOO  OOO  OOO \n",
      "OOOOOOOOOOOOOOOOOOOOOOOOO\n",
      " OOO  OOO  OOO  OOO  OOO \n",
      "  O    O    O    O    O  \n",
      "  O    O    O    O    O  \n",
      " OOO  OOO  OOO  OOO  OOO \n",
      "OOOOOOOOOOOOOOOOOOOOOOOOO\n",
      " OOO  OOO  OOO  OOO  OOO \n",
      "  O    O    O    O    O  \n"
     ]
    }
   ],
   "metadata": {}
  },
  {
   "cell_type": "code",
   "execution_count": null,
   "source": [],
   "outputs": [],
   "metadata": {}
  },
  {
   "cell_type": "code",
   "execution_count": 3,
   "source": [
    "from typing import Any, Dict, List\n",
    "import json\n",
    "\n",
    "Data = Dict[str,List[Dict[str,Any]]]\n",
    "\n",
    "def change(total_price,pay):\n",
    "    if total_price == pay:\n",
    "        return print('no change')\n",
    "    change_total = pay-total_price\n",
    "    # print(\"Customer's change:\",change_total)\n",
    "    change1000 = change_total//1000\n",
    "    change_total = change_total-(change1000*1000)\n",
    "    change500 = change_total//500\n",
    "    change_total = change_total-(change500*500)\n",
    "    change100 = change_total//100\n",
    "    change_total = change_total-(change100*100)\n",
    "    change50 = change_total//50\n",
    "    change_total = change_total-(change50*50)\n",
    "    change20 = change_total//20\n",
    "    change_total = change_total-(change20*20)\n",
    "    change10 = change_total//10\n",
    "    change_total = change_total-(change10*10)\n",
    "    change5 = change_total//5\n",
    "    change_total = change_total-(change5*5)\n",
    "    change1 = change_total\n",
    "    print('1000 : ',change1000) if change1000 != 0 else None\n",
    "    print('500 : ',change500) if change500 != 0 else None\n",
    "    print('100 : ',change100) if change100 != 0 else None\n",
    "    print('50 : ',change50) if change50 != 0 else None\n",
    "    print('20 : ',change20) if change20 != 0 else None\n",
    "    print('10 : ',change10) if change10 != 0 else None\n",
    "    print('5 : ',change5) if change5 != 0 else None\n",
    "    print('1 : ',change1) if change1 != 0 else None\n",
    "\n",
    "\n",
    "def readData(fileName:str) -> Data:\n",
    "    return json.loads(open(fileName).read().strip())\n",
    "\n",
    "\n",
    "\n",
    "datas = readData(input('Enter json filename : '))\n",
    "\n",
    "products,customers = datas['products'],datas['customers']\n",
    "\n",
    "productDict = {}\n",
    "\n",
    "for product in products:\n",
    "    items = list(product.items())\n",
    "    # print(items)\n",
    "    productDict.update({items[0][1]:int(items[1][1])})\n",
    "\n",
    "\n",
    "\n",
    "customerDict:Dict[str,int] = {}\n",
    "\n",
    "for customer in customers:\n",
    "    name = customer['customer_name']\n",
    "    orders:Dict[str,int] = customer['order']\n",
    "\n",
    "    for order in orders.items():\n",
    "        print(order)\n",
    "        try:\n",
    "            customerDict[name] += productDict[order[0]] * order[1]\n",
    "        except:\n",
    "            customerDict.update({name : (productDict[order[0]] * order[1],customer['money'])})\n",
    "\n",
    "\n",
    "for customerItem in customerDict.items():\n",
    "    print(customerItem[0])\n",
    "    change(*customerItem[1])"
   ],
   "outputs": [
    {
     "output_type": "stream",
     "name": "stdout",
     "text": [
      "{'Apple': 15, 'Banana': 29, 'Grape': 44}\n",
      "('Apple', 3)\n",
      "('Banana', 5)\n",
      "('Apple', 3)\n",
      "('Grape', 5)\n",
      "('Apple', 1)\n",
      "('Grape', 1)\n",
      "('Banana', 1)\n",
      "{'Tokyo': (145, 1000), 'ant': (220, 10003), 'Japan': (29, 88)}\n",
      "Tokyo\n",
      "500 :  1\n",
      "100 :  3\n",
      "50 :  1\n",
      "5 :  1\n",
      "ant\n",
      "1000 :  9\n",
      "500 :  1\n",
      "100 :  2\n",
      "50 :  1\n",
      "20 :  1\n",
      "10 :  1\n",
      "1 :  3\n",
      "Japan\n",
      "50 :  1\n",
      "5 :  1\n",
      "1 :  4\n"
     ]
    }
   ],
   "metadata": {}
  },
  {
   "cell_type": "code",
   "execution_count": 7,
   "source": [
    "print(productDict)"
   ],
   "outputs": [
    {
     "output_type": "stream",
     "name": "stdout",
     "text": [
      "{'Apple': 15, 'Banana': 29, 'Grape': 44}\n"
     ]
    }
   ],
   "metadata": {}
  },
  {
   "cell_type": "code",
   "execution_count": 16,
   "source": [
    "customerDict = {}\n",
    "for customer in customers:\n",
    "    name:str = customer['customer_name']\n",
    "    orders:Dict[str,int] = customer['order']\n",
    "    print(name)\n",
    "\n",
    "    for order in orders.items():\n",
    "        print(order)\n",
    "        try:\n",
    "            print(productDict[order[0]] * order[1])\n",
    "            customerDict[name][0] += (productDict[order[0]] * order[1])\n",
    "        except KeyError:\n",
    "            customerDict.update({name : [productDict[order[0]] * order[1],customer['money']]})"
   ],
   "outputs": [
    {
     "output_type": "stream",
     "name": "stdout",
     "text": [
      "Tokyo\n",
      "('Apple', 3)\n",
      "45\n",
      "('Banana', 5)\n",
      "145\n",
      "ant\n",
      "('Apple', 3)\n",
      "45\n",
      "('Grape', 5)\n",
      "220\n",
      "Japan\n",
      "('Apple', 1)\n",
      "15\n",
      "('Grape', 1)\n",
      "44\n",
      "('Banana', 1)\n",
      "29\n"
     ]
    }
   ],
   "metadata": {}
  },
  {
   "cell_type": "code",
   "execution_count": 17,
   "source": [
    "customerDict"
   ],
   "outputs": [
    {
     "output_type": "execute_result",
     "data": {
      "text/plain": [
       "{'Tokyo': [190, 1000], 'ant': [265, 10003], 'Japan': [88, 88]}"
      ]
     },
     "metadata": {},
     "execution_count": 17
    }
   ],
   "metadata": {}
  },
  {
   "cell_type": "code",
   "execution_count": 4,
   "source": [
    "print(customerDict)"
   ],
   "outputs": [
    {
     "output_type": "stream",
     "name": "stdout",
     "text": [
      "{'Tokyo': [190, 1000], 'ant': [265, 10003], 'Japan': [88, 88]}\n"
     ]
    }
   ],
   "metadata": {}
  },
  {
   "cell_type": "code",
   "execution_count": 5,
   "source": [
    "from typing import Any, Dict, List\n",
    "import json\n",
    "\n",
    "Data = Dict[str,List[Dict[str,Any]]]\n",
    "\n",
    "def change(total_price,pay):\n",
    "    if total_price == pay:\n",
    "        return print('no change')\n",
    "    change_total = pay-total_price\n",
    "    # print(\"Customer's change:\",change_total)\n",
    "    change1000 = change_total//1000\n",
    "    change_total = change_total-(change1000*1000)\n",
    "    change500 = change_total//500\n",
    "    change_total = change_total-(change500*500)\n",
    "    change100 = change_total//100\n",
    "    change_total = change_total-(change100*100)\n",
    "    change50 = change_total//50\n",
    "    change_total = change_total-(change50*50)\n",
    "    change20 = change_total//20\n",
    "    change_total = change_total-(change20*20)\n",
    "    change10 = change_total//10\n",
    "    change_total = change_total-(change10*10)\n",
    "    change5 = change_total//5\n",
    "    change_total = change_total-(change5*5)\n",
    "    change2 = change_total//2\n",
    "    change_total = change_total-(change2*2)\n",
    "    change1 = change_total\n",
    "    print('1000 : ',change1000) if change1000 != 0 else None\n",
    "    print('500 : ',change500) if change500 != 0 else None\n",
    "    print('100 : ',change100) if change100 != 0 else None\n",
    "    print('50 : ',change50) if change50 != 0 else None\n",
    "    print('20 : ',change20) if change20 != 0 else None\n",
    "    print('10 : ',change10) if change10 != 0 else None\n",
    "    print('5 : ',change5) if change5 != 0 else None\n",
    "    print('2 : ',change1) if change2 != 0 else None\n",
    "    print('1 : ',change1) if change1 != 0 else None\n",
    "\n",
    "\n",
    "def readData(fileName:str) -> Data:\n",
    "    return json.loads(open(fileName).read().strip())\n",
    "\n",
    "\n",
    "\n",
    "datas = readData(input('Enter json filename : '))\n",
    "\n",
    "products,customers = datas['products'],datas['customers']\n",
    "\n",
    "productDict = {}\n",
    "\n",
    "for product in products:\n",
    "    items = list(product.items())\n",
    "    # print(items)\n",
    "    productDict.update({items[0][1]:int(items[1][1])})\n",
    "\n",
    "# print(productDict)\n",
    "\n",
    "customerDict:Dict[str,int] = {}\n",
    "\n",
    "for customer in customers:\n",
    "    name:str = customer['customer_name']\n",
    "    orders:Dict[str,int] = customer['order']\n",
    "    # print(name)\n",
    "\n",
    "    for order in orders.items():\n",
    "        print((productDict[order[0]] * order[1]))\n",
    "        try:\n",
    "            # print(productDict[order[0]] * order[1])\n",
    "            customerDict[name][0] += (productDict[order[0]] * order[1])\n",
    "        except KeyError:\n",
    "            customerDict.update({name : [productDict[order[0]] * order[1],customer['money']]})\n",
    "\n",
    "print(customerDict)\n",
    "\n",
    "for customerItem in sorted(customerDict.items() , key=lambda item:ord(item[0][0])):\n",
    "    print(customerItem[0])\n",
    "    change(*customerItem[1])\n",
    "    print()"
   ],
   "outputs": [
    {
     "output_type": "stream",
     "name": "stdout",
     "text": [
      "45\n",
      "145\n",
      "45\n",
      "220\n",
      "15\n",
      "44\n",
      "29\n",
      "{'Tokyo': [190, 1000], 'ant': [265, 10003], 'Japan': [88, 88]}\n",
      "Japan\n",
      "no change\n",
      "\n",
      "Tokyo\n",
      "500 :  1\n",
      "100 :  3\n",
      "10 :  1\n",
      "\n",
      "ant\n",
      "1000 :  9\n",
      "500 :  1\n",
      "100 :  2\n",
      "20 :  1\n",
      "10 :  1\n",
      "5 :  1\n",
      "2 :  1\n",
      "1 :  1\n",
      "\n"
     ]
    }
   ],
   "metadata": {}
  },
  {
   "cell_type": "code",
   "execution_count": 2,
   "source": [
    "print(productDict)"
   ],
   "outputs": [
    {
     "output_type": "stream",
     "name": "stdout",
     "text": [
      "{'Apple': 15, 'Banana': 29, 'Grape': 44}\n"
     ]
    }
   ],
   "metadata": {}
  },
  {
   "cell_type": "code",
   "execution_count": 7,
   "source": [
    "from typing import Dict, List\n",
    "import json\n",
    "\n",
    "def readData(fileName:str) -> List[Dict[str,str]]:\n",
    "    return json.loads(open(fileName).read().strip())\n",
    "\n",
    "datas = readData(input('Filename : '))\n",
    "lengthType = input('type : ')\n",
    "\n",
    "lengthDict:Dict[str,List[float]] = {}\n",
    "\n",
    "for data in datas:\n",
    "    try:\n",
    "        lengthDict[data['species']].append(data[lengthType])\n",
    "    except:\n",
    "        lengthDict.update({data['species'] : [data[lengthType]]})\n",
    "\n",
    "\n",
    "for i in lengthDict.items():\n",
    "    print(f'{i[0]} = {sum(i[1]) / len(i[1]):.2f}')"
   ],
   "outputs": [
    {
     "output_type": "error",
     "ename": "KeyError",
     "evalue": "'Blue'",
     "traceback": [
      "\u001b[0;31m---------------------------------------------------------------------------\u001b[0m",
      "\u001b[0;31mKeyError\u001b[0m                                  Traceback (most recent call last)",
      "\u001b[0;32m<ipython-input-7-36178c2f9cba>\u001b[0m in \u001b[0;36m<module>\u001b[0;34m\u001b[0m\n\u001b[1;32m     13\u001b[0m     \u001b[0;32mtry\u001b[0m\u001b[0;34m:\u001b[0m\u001b[0;34m\u001b[0m\u001b[0;34m\u001b[0m\u001b[0m\n\u001b[0;32m---> 14\u001b[0;31m         \u001b[0mlengthDict\u001b[0m\u001b[0;34m[\u001b[0m\u001b[0mdata\u001b[0m\u001b[0;34m[\u001b[0m\u001b[0;34m'species'\u001b[0m\u001b[0;34m]\u001b[0m\u001b[0;34m]\u001b[0m\u001b[0;34m.\u001b[0m\u001b[0mappend\u001b[0m\u001b[0;34m(\u001b[0m\u001b[0mdata\u001b[0m\u001b[0;34m[\u001b[0m\u001b[0mlengthType\u001b[0m\u001b[0;34m]\u001b[0m\u001b[0;34m)\u001b[0m\u001b[0;34m\u001b[0m\u001b[0;34m\u001b[0m\u001b[0m\n\u001b[0m\u001b[1;32m     15\u001b[0m     \u001b[0;32mexcept\u001b[0m\u001b[0;34m:\u001b[0m\u001b[0;34m\u001b[0m\u001b[0;34m\u001b[0m\u001b[0m\n",
      "\u001b[0;31mKeyError\u001b[0m: 'Blue'",
      "\nDuring handling of the above exception, another exception occurred:\n",
      "\u001b[0;31mKeyError\u001b[0m                                  Traceback (most recent call last)",
      "\u001b[0;32m<ipython-input-7-36178c2f9cba>\u001b[0m in \u001b[0;36m<module>\u001b[0;34m\u001b[0m\n\u001b[1;32m     14\u001b[0m         \u001b[0mlengthDict\u001b[0m\u001b[0;34m[\u001b[0m\u001b[0mdata\u001b[0m\u001b[0;34m[\u001b[0m\u001b[0;34m'species'\u001b[0m\u001b[0;34m]\u001b[0m\u001b[0;34m]\u001b[0m\u001b[0;34m.\u001b[0m\u001b[0mappend\u001b[0m\u001b[0;34m(\u001b[0m\u001b[0mdata\u001b[0m\u001b[0;34m[\u001b[0m\u001b[0mlengthType\u001b[0m\u001b[0;34m]\u001b[0m\u001b[0;34m)\u001b[0m\u001b[0;34m\u001b[0m\u001b[0;34m\u001b[0m\u001b[0m\n\u001b[1;32m     15\u001b[0m     \u001b[0;32mexcept\u001b[0m\u001b[0;34m:\u001b[0m\u001b[0;34m\u001b[0m\u001b[0;34m\u001b[0m\u001b[0m\n\u001b[0;32m---> 16\u001b[0;31m         \u001b[0mlengthDict\u001b[0m\u001b[0;34m.\u001b[0m\u001b[0mupdate\u001b[0m\u001b[0;34m(\u001b[0m\u001b[0;34m{\u001b[0m\u001b[0mlengthDict\u001b[0m\u001b[0;34m[\u001b[0m\u001b[0mdata\u001b[0m\u001b[0;34m[\u001b[0m\u001b[0;34m'species'\u001b[0m\u001b[0;34m]\u001b[0m\u001b[0;34m]\u001b[0m \u001b[0;34m:\u001b[0m \u001b[0;34m[\u001b[0m\u001b[0mdata\u001b[0m\u001b[0;34m[\u001b[0m\u001b[0mlengthType\u001b[0m\u001b[0;34m]\u001b[0m\u001b[0;34m]\u001b[0m\u001b[0;34m}\u001b[0m\u001b[0;34m)\u001b[0m\u001b[0;34m\u001b[0m\u001b[0;34m\u001b[0m\u001b[0m\n\u001b[0m\u001b[1;32m     17\u001b[0m \u001b[0;34m\u001b[0m\u001b[0m\n\u001b[1;32m     18\u001b[0m \u001b[0;34m\u001b[0m\u001b[0m\n",
      "\u001b[0;31mKeyError\u001b[0m: 'Blue'"
     ]
    }
   ],
   "metadata": {}
  }
 ],
 "metadata": {
  "orig_nbformat": 4,
  "language_info": {
   "name": "python",
   "version": "3.6.13",
   "mimetype": "text/x-python",
   "codemirror_mode": {
    "name": "ipython",
    "version": 3
   },
   "pygments_lexer": "ipython3",
   "nbconvert_exporter": "python",
   "file_extension": ".py"
  },
  "kernelspec": {
   "name": "python3",
   "display_name": "Python 3.6.13 64-bit ('cpe35': conda)"
  },
  "interpreter": {
   "hash": "79ad47b933004d578ba4ec19af1d96ce124544fb0f46a88e12a7eff0983b6609"
  }
 },
 "nbformat": 4,
 "nbformat_minor": 2
}