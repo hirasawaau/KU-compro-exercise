{
 "cells": [
  {
   "cell_type": "code",
   "execution_count": 30,
   "source": [
    "def printThenReturn(r):\n",
    "    print(r)\n",
    "    return r\n"
   ],
   "outputs": [],
   "metadata": {}
  },
  {
   "cell_type": "code",
   "execution_count": 45,
   "source": [
    "from typing import List,Tuple\n",
    "from copy import deepcopy\n",
    "def IsAreaSquare(Area: List[List[int]]) -> bool:\n",
    "    isAreaSquare = True\n",
    "    for index, value in enumerate(Area):\n",
    "        try:\n",
    "            if len(value) != len(Area[index + 1]):\n",
    "                isAreaSquare = not isAreaSquare\n",
    "                break\n",
    "        except:\n",
    "            break\n",
    "    return isAreaSquare\n",
    "\n",
    "\n",
    "def Buy(i, j, Area) -> float:\n",
    "    try:\n",
    "        Area[i + 1][j] += Area[i + 1][j] * 0.1\n",
    "    except:\n",
    "        pass\n",
    "    try:\n",
    "        Area[i][j + 1] += Area[i][j + 1] * 0.1\n",
    "    except:\n",
    "        pass\n",
    "\n",
    "    if i - 1 >= 0:\n",
    "        Area[i - 1][j] += Area[i - 1][j] * 0.1\n",
    "    if j - 1 >= 0:\n",
    "        Area[i][j - 1] += Area[i][j - 1] * 0.1\n",
    "\n",
    "    return Area[i][j]\n",
    "\n",
    "\n",
    "def ClockWise(Area: List[List[int]]) -> List[float]:\n",
    "    mockArea = deepcopy(Area)\n",
    "    price_results: List[float] = []\n",
    "    values_results: List[float] = []\n",
    "    for i in range(len(mockArea)):\n",
    "        values = []\n",
    "        for j in range(len(mockArea[i])):\n",
    "            \n",
    "            price = 0\n",
    "            price += printThenReturn(Buy(i, j, mockArea))\n",
    "            try:\n",
    "                price += printThenReturn(Buy(i, j + 1, mockArea))\n",
    "            except:\n",
    "                mockArea = deepcopy(Area)\n",
    "                continue\n",
    "            try:\n",
    "                price += printThenReturn(Buy(i + 1, j + 1, mockArea))\n",
    "            except:\n",
    "                mockArea = deepcopy(Area)\n",
    "                continue\n",
    "            try:\n",
    "                price += printThenReturn(Buy(i+1, j, mockArea))\n",
    "            except:\n",
    "                mockArea = deepcopy(Area)\n",
    "                continue\n",
    "            \n",
    "            # print(Area)\n",
    "            price_results.append(price)\n",
    "            mockArea = deepcopy(Area)\n",
    "        \n",
    "\n",
    "    return price_results\n",
    "\n",
    "\n",
    "def AntiClockWise(Area: List[List[int]]) -> List[float]:\n",
    "    mockArea = deepcopy(Area)\n",
    "    price_results: List[float] = []\n",
    "    for i in range(len(mockArea)):\n",
    "        prices = []\n",
    "        for j in range(len(mockArea[i])):\n",
    "            \n",
    "            price = 0\n",
    "            price += printThenReturn(Buy(i, j, mockArea))\n",
    "            try:\n",
    "                price += printThenReturn(Buy(i, j + 1, mockArea))\n",
    "            except:\n",
    "                mockArea = deepcopy(Area)\n",
    "                \n",
    "                continue\n",
    "            try:\n",
    "                if i - 1 >= 0:\n",
    "                    price += printThenReturn(Buy(i - 1, j + 1, mockArea))\n",
    "                else:\n",
    "                    raise IndexError('Index < 0')\n",
    "            except:\n",
    "                mockArea = deepcopy(Area)\n",
    "                \n",
    "                continue\n",
    "            try:\n",
    "                if i - 1 >= 0:\n",
    "                    price += printThenReturn(Buy(i - 1, j, mockArea))\n",
    "                else:\n",
    "                    raise IndexError('Index < 0')\n",
    "            except:\n",
    "                \n",
    "                mockArea = deepcopy(Area)\n",
    "                continue\n",
    "            \n",
    "            price_results.append(price)\n",
    "            mockArea = deepcopy(Area)\n",
    "    return price_results\n",
    "\n",
    "\n"
   ],
   "outputs": [],
   "metadata": {}
  },
  {
   "cell_type": "code",
   "execution_count": 1,
   "source": [
    "type('ตัวหนังสือ',str,{ง})"
   ],
   "outputs": [
    {
     "output_type": "error",
     "ename": "TypeError",
     "evalue": "can't set attributes of built-in/extension type 'str'",
     "traceback": [
      "\u001b[0;31m---------------------------------------------------------------------------\u001b[0m",
      "\u001b[0;31mTypeError\u001b[0m                                 Traceback (most recent call last)",
      "\u001b[0;32m<ipython-input-1-e8fd0c82bf1f>\u001b[0m in \u001b[0;36m<module>\u001b[0;34m\u001b[0m\n\u001b[0;32m----> 1\u001b[0;31m \u001b[0mstr\u001b[0m\u001b[0;34m.\u001b[0m\u001b[0mแยก\u001b[0m \u001b[0;34m=\u001b[0m \u001b[0mstr\u001b[0m\u001b[0;34m.\u001b[0m\u001b[0msplit\u001b[0m\u001b[0;34m\u001b[0m\u001b[0;34m\u001b[0m\u001b[0m\n\u001b[0m\u001b[1;32m      2\u001b[0m \u001b[0minput\u001b[0m\u001b[0;34m(\u001b[0m\u001b[0;34m)\u001b[0m\u001b[0;34m.\u001b[0m\u001b[0mแยก\u001b[0m\u001b[0;34m(\u001b[0m\u001b[0;34m)\u001b[0m\u001b[0;34m\u001b[0m\u001b[0;34m\u001b[0m\u001b[0m\n",
      "\u001b[0;31mTypeError\u001b[0m: can't set attributes of built-in/extension type 'str'"
     ]
    }
   ],
   "metadata": {}
  },
  {
   "cell_type": "code",
   "execution_count": 6,
   "source": [
    "areaMatrix: List[List[int]] = []\n",
    "while True:\n",
    "    Input = list(map(int, input().split()))\n",
    "    if len(Input) == 0: break\n",
    "\n",
    "    areaMatrix.append(Input)\n",
    "\n",
    "if not IsAreaSquare(areaMatrix):\n",
    "    print(\"Can't Buy\")\n",
    "else:\n",
    "    allPrices = ClockWise(areaMatrix)\n",
    "    allPrices.extend(AntiClockWise(areaMatrix))\n",
    "\n",
    "    print(min(allPrices))"
   ],
   "outputs": [
    {
     "output_type": "stream",
     "name": "stdout",
     "text": [
      "81.72\n"
     ]
    }
   ],
   "metadata": {}
  },
  {
   "cell_type": "code",
   "execution_count": 46,
   "source": [
    "AntiClockWise(areaMatrix)"
   ],
   "outputs": [
    {
     "output_type": "stream",
     "name": "stdout",
     "text": [
      "(0, 0)\n",
      "10\n",
      "13.2\n",
      "---------------END---------------\n",
      "(0, 1)\n",
      "12\n",
      "55.0\n",
      "---------------END---------------\n",
      "(0, 2)\n",
      "50\n",
      "---------------END---------------\n",
      "(1, 0)\n",
      "50\n",
      "44.0\n",
      "13.2\n",
      "12.1\n",
      "---------------END---------------\n",
      "(1, 1)\n",
      "40\n",
      "22.0\n",
      "55.0\n",
      "14.52\n",
      "---------------END---------------\n",
      "(1, 2)\n",
      "20\n",
      "---------------END---------------\n"
     ]
    },
    {
     "output_type": "execute_result",
     "data": {
      "text/plain": [
       "[119.3, 131.52]"
      ]
     },
     "metadata": {},
     "execution_count": 46
    }
   ],
   "metadata": {}
  }
 ],
 "metadata": {
  "orig_nbformat": 4,
  "language_info": {
   "name": "python",
   "version": "3.6.13",
   "mimetype": "text/x-python",
   "codemirror_mode": {
    "name": "ipython",
    "version": 3
   },
   "pygments_lexer": "ipython3",
   "nbconvert_exporter": "python",
   "file_extension": ".py"
  },
  "kernelspec": {
   "name": "python3",
   "display_name": "Python 3.6.13 64-bit ('python-cpe': conda)"
  },
  "interpreter": {
   "hash": "8455ba0420cebb81d27799f55a09fb3e2c8c1644a8de5e58d4aa74be540b8105"
  }
 },
 "nbformat": 4,
 "nbformat_minor": 2
}