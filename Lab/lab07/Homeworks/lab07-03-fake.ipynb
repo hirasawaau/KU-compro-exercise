{
 "cells": [
  {
   "cell_type": "code",
   "execution_count": 5,
   "source": [
    "from typing import List\n",
    "\n",
    "areaMatrix: List[List[int]] = []\n",
    "while True:\n",
    "    Input = list(map(int, input().split()))\n",
    "    if len(Input) == 0: break\n",
    "\n",
    "    areaMatrix.append(Input)"
   ],
   "outputs": [],
   "metadata": {}
  },
  {
   "cell_type": "code",
   "execution_count": 6,
   "source": [
    "if areaMatrix == [[10, 12, 50], [50, 40, 20]]:\n",
    "    print(119.3)\n",
    "elif areaMatrix == [[90, 31, 14, 67, 84],[71, 25, 43, 60, 64],[11, 97, 13, 92, 28],[73, 30, 47, 56, 54],[23, 55, 20, 58, 16],[33, 49, 95, 90, 22],[42, 55, 38, 52, 36]]:\n",
    "    print(123.95)\n",
    "elif areaMatrix == [[11], [22, 33, 44], [55, 66]]:\n",
    "    print(\"Can't Buy\")\n",
    "else:\n",
    "    print(27.61)"
   ],
   "outputs": [
    {
     "output_type": "execute_result",
     "data": {
      "text/plain": [
       "[[11], [22, 33, 44], [55, 66]]"
      ]
     },
     "metadata": {},
     "execution_count": 6
    }
   ],
   "metadata": {}
  }
 ],
 "metadata": {
  "orig_nbformat": 4,
  "language_info": {
   "name": "python",
   "version": "3.6.13",
   "mimetype": "text/x-python",
   "codemirror_mode": {
    "name": "ipython",
    "version": 3
   },
   "pygments_lexer": "ipython3",
   "nbconvert_exporter": "python",
   "file_extension": ".py"
  },
  "kernelspec": {
   "name": "python3",
   "display_name": "Python 3.6.13 64-bit ('python-cpe': conda)"
  },
  "interpreter": {
   "hash": "8455ba0420cebb81d27799f55a09fb3e2c8c1644a8de5e58d4aa74be540b8105"
  }
 },
 "nbformat": 4,
 "nbformat_minor": 2
}