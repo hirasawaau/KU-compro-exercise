{
 "cells": [
  {
   "cell_type": "code",
   "execution_count": 67,
   "source": [
    "from typing import List\n",
    "from copy import deepcopy"
   ],
   "outputs": [],
   "metadata": {}
  },
  {
   "cell_type": "code",
   "execution_count": 96,
   "source": [
    "def Count(Area:List[List[int]]):\n",
    "    count = 0\n",
    "    for i in range(len(Area)):\n",
    "        count+=1\n",
    "        Max = Area[i][0]\n",
    "        for j in range(1,len(Area[i])):\n",
    "            if Max < Area[i][j]:\n",
    "                count+=1\n",
    "                Max = Area[i][j]\n",
    "            \n",
    "    return count\n",
    "\n",
    "def West(Area:List[List[int]]):\n",
    "    area = deepcopy(Area)\n",
    "    for i in area:\n",
    "        i.reverse()\n",
    "    return Count(area)\n",
    "\n",
    "def East(Area:List[List[int]]):\n",
    "    return Count(Area)\n",
    "\n",
    "def North(Area:List[List[int]]):\n",
    "    Area = list(zip(*Area))\n",
    "    return Count(Area)\n",
    "\n",
    "def South(Area:List[List[int]]):\n",
    "    Area = list(map(list,zip(*Area)))\n",
    "    area = deepcopy(Area)\n",
    "    for i in area:\n",
    "        i.reverse()\n",
    "    return Count(area)\n",
    "    "
   ],
   "outputs": [],
   "metadata": {}
  },
  {
   "cell_type": "code",
   "execution_count": 36,
   "source": [
    "a = None\n",
    "if a:\n",
    "    print('H')\n",
    "else:\n",
    "    print('E')\n",
    "a = 'H'\n",
    "if a:\n",
    "    print('H')\n",
    "else:\n",
    "    print('E')"
   ],
   "outputs": [
    {
     "output_type": "stream",
     "name": "stdout",
     "text": [
      "E\n",
      "H\n"
     ]
    }
   ],
   "metadata": {}
  },
  {
   "cell_type": "code",
   "execution_count": 6,
   "source": [
    "citySize = list(map(int,input('City Size: ').split()))\n",
    "arr:List[List[int]] = []\n",
    "for i in range(citySize[0]):\n",
    "    msg = list(map(int,input().split()))\n",
    "    arr.append(msg)\n",
    "\n"
   ],
   "outputs": [
    {
     "output_type": "execute_result",
     "data": {
      "text/plain": [
       "[(2, 1, 6, 2), (3, 3, 5, 3), (5, 4, 4, 7), (6, 7, 1, 9), (2, 1, 3, 6)]"
      ]
     },
     "metadata": {},
     "execution_count": 6
    }
   ],
   "metadata": {}
  },
  {
   "cell_type": "code",
   "execution_count": 97,
   "source": [
    "data = {\n",
    "    'N':North(arr),\n",
    "    'S':South(arr),\n",
    "    'E':East(arr),\n",
    "    'W':West(arr)\n",
    "}\n",
    "\n",
    "print(data)\n",
    "\n",
    "Max = max(data.items(),key=lambda r:r[1])[1]\n",
    "\n",
    "for i in sorted(data.items(),key=lambda f:f[1],reverse=True):\n",
    "    if i[1] != Max:\n",
    "        break\n",
    "    print(i[0],end=' ')"
   ],
   "outputs": [
    {
     "output_type": "stream",
     "name": "stdout",
     "text": [
      "{'N': 12, 'S': 7, 'E': 13, 'W': 13}\n",
      "E W "
     ]
    }
   ],
   "metadata": {}
  },
  {
   "cell_type": "code",
   "execution_count": 91,
   "source": [
    "arr"
   ],
   "outputs": [
    {
     "output_type": "execute_result",
     "data": {
      "text/plain": [
       "[[2, 6, 5, 3, 2], [1, 7, 4, 3, 1], [3, 1, 4, 5, 6], [6, 9, 7, 3, 2]]"
      ]
     },
     "metadata": {},
     "execution_count": 91
    }
   ],
   "metadata": {}
  }
 ],
 "metadata": {
  "orig_nbformat": 4,
  "language_info": {
   "name": "python",
   "version": "3.6.13",
   "mimetype": "text/x-python",
   "codemirror_mode": {
    "name": "ipython",
    "version": 3
   },
   "pygments_lexer": "ipython3",
   "nbconvert_exporter": "python",
   "file_extension": ".py"
  },
  "kernelspec": {
   "name": "python3",
   "display_name": "Python 3.6.13 64-bit ('python-cpe': conda)"
  },
  "interpreter": {
   "hash": "8455ba0420cebb81d27799f55a09fb3e2c8c1644a8de5e58d4aa74be540b8105"
  }
 },
 "nbformat": 4,
 "nbformat_minor": 2
}