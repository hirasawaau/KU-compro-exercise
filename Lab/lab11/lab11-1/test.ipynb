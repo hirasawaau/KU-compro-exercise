{
 "cells": [
  {
   "cell_type": "code",
   "execution_count": 4,
   "source": [
    "def readFile(fileName: str):\n",
    "    with open(fileName) as file:\n",
    "        raw = file.read().strip().splitlines()\n",
    "    header = raw[0]\n",
    "    return [dict(zip(header.split(','),data.split(','))) for data in raw[1:]]\n",
    "\n",
    "datas = readFile(input('Enter file name: '))"
   ],
   "outputs": [],
   "metadata": {}
  },
  {
   "cell_type": "code",
   "execution_count": 8,
   "source": [
    "Min = min(datas,key=lambda data:float(data['temperature']))\n",
    "Max = max(datas,key=lambda data:float(data['temperature']))\n",
    "Avg = sum([float(data['temperature']) for data in datas]) / len(datas)\n",
    "\n",
    "print(f\"Minimum: {float(Min['temperature']):.2f}\")\n",
    "print(f\"Maximum: {float(Max['temperature']):.2f}\")\n",
    "print(f'Average temperature: {Avg:.4f}')\n"
   ],
   "outputs": [
    {
     "output_type": "stream",
     "name": "stdout",
     "text": [
      "Minimum: -2.20\n",
      "Maximum: 18.67\n",
      "Average temperature: 9.4978\n"
     ]
    }
   ],
   "metadata": {}
  }
 ],
 "metadata": {
  "orig_nbformat": 4,
  "language_info": {
   "name": "python",
   "version": "3.9.6",
   "mimetype": "text/x-python",
   "codemirror_mode": {
    "name": "ipython",
    "version": 3
   },
   "pygments_lexer": "ipython3",
   "nbconvert_exporter": "python",
   "file_extension": ".py"
  },
  "kernelspec": {
   "name": "python3",
   "display_name": "Python 3.9.6 64-bit ('latest': conda)"
  },
  "interpreter": {
   "hash": "a8657452b1e74e1d606578a8ca0f0df6233030d9798964361ead33ac28e57a7c"
  }
 },
 "nbformat": 4,
 "nbformat_minor": 2
}