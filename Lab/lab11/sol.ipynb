{
 "cells": [
  {
   "cell_type": "code",
   "execution_count": 13,
   "source": [
    "def hash(*s):\n",
    "    if ord(s[0]) >= ord(s[1]):\n",
    "        return ord(s[1]) + 10\n",
    "    else:\n",
    "        return ord(s[0]) - 7\n",
    "\n",
    "def isPhotobook(s:str):\n",
    "    global isPhoto\n",
    "    isPhoto = s[0].isalpha() and s[-1].isalpha()\n",
    "    return isPhoto\n",
    "\n",
    "def calKey(s:str):\n",
    "    return sum([hash(s[i],s[i+1]) for i in range(len(s) - 1)])\n",
    "\n",
    "def isPhotobookGenuine(key:int):\n",
    "    if not isPhoto:\n",
    "        return 'Incorrect Type'\n",
    "    return key%2 == 0\n",
    "\n",
    "def isAlbumGenuine(key:int):\n",
    "    if isPhoto:\n",
    "        return 'Incorrect Type'\n",
    "    return key%2 == 1\n",
    "\n",
    "def solve():\n",
    "    n = int(input())\n",
    "    ids = [input() for i in range(n)]\n",
    "\n",
    "    real_photo_book = 0\n",
    "    fake_album = 0  \n",
    "    for id in ids:\n",
    "        # print(id)\n",
    "        isPhotobook(id)\n",
    "        key = calKey(id)\n",
    "        \n",
    "        if isPhoto:\n",
    "            if isPhotobookGenuine(key):\n",
    "                real_photo_book+=1\n",
    "        else:\n",
    "            if isAlbumGenuine(key):\n",
    "                fake_album+=1\n",
    "    \n",
    "    print(real_photo_book)\n",
    "    print(fake_album)\n",
    "\n",
    "        "
   ],
   "outputs": [],
   "metadata": {}
  },
  {
   "cell_type": "code",
   "execution_count": 15,
   "source": [
    "solve()"
   ],
   "outputs": [
    {
     "output_type": "stream",
     "name": "stdout",
     "text": [
      "ZB\n",
      "1\n",
      "0\n"
     ]
    }
   ],
   "metadata": {}
  },
  {
   "cell_type": "code",
   "execution_count": 19,
   "source": [
    "from itertools import combinations\n",
    "\n",
    "list(combinations([('aaa', 11), ('bbb', 4), ('ddd', 3), ('ccc', 11), ('eee', 5)],4))"
   ],
   "outputs": [
    {
     "output_type": "execute_result",
     "data": {
      "text/plain": [
       "[(('aaa', 11), ('bbb', 4), ('ddd', 3), ('ccc', 11)),\n",
       " (('aaa', 11), ('bbb', 4), ('ddd', 3), ('eee', 5)),\n",
       " (('aaa', 11), ('bbb', 4), ('ccc', 11), ('eee', 5)),\n",
       " (('aaa', 11), ('ddd', 3), ('ccc', 11), ('eee', 5)),\n",
       " (('bbb', 4), ('ddd', 3), ('ccc', 11), ('eee', 5))]"
      ]
     },
     "metadata": {},
     "execution_count": 19
    }
   ],
   "metadata": {}
  },
  {
   "cell_type": "code",
   "execution_count": 20,
   "source": [
    "r = int(input())\n",
    "k = 0\n",
    "\n",
    "BaseMatrix = []\n",
    "\n",
    "for i in range(r):\n",
    "    base = []\n",
    "    for j in range(1,r+1):\n",
    "        base.append(k+j)\n",
    "    k+=r\n",
    "    BaseMatrix.append(base)\n",
    "\n",
    "Index = [[(x,y) for x in range(r)] for y in range(r)]\n",
    "\n",
    "print(Index)\n"
   ],
   "outputs": [
    {
     "output_type": "stream",
     "name": "stdout",
     "text": [
      "[[(0, 0), (1, 0), (2, 0), (3, 0), (4, 0)], [(0, 1), (1, 1), (2, 1), (3, 1), (4, 1)], [(0, 2), (1, 2), (2, 2), (3, 2), (4, 2)], [(0, 3), (1, 3), (2, 3), (3, 3), (4, 3)], [(0, 4), (1, 4), (2, 4), (3, 4), (4, 4)]]\n"
     ]
    }
   ],
   "metadata": {}
  },
  {
   "cell_type": "code",
   "execution_count": 1,
   "source": [
    "def 😀():\n",
    "    return r"
   ],
   "outputs": [
    {
     "output_type": "error",
     "ename": "SyntaxError",
     "evalue": "invalid character '😀' (U+1F600) (1408716458.py, line 1)",
     "traceback": [
      "\u001b[0;36m  File \u001b[0;32m\"/tmp/ipykernel_950/1408716458.py\"\u001b[0;36m, line \u001b[0;32m1\u001b[0m\n\u001b[0;31m    def 😀():\u001b[0m\n\u001b[0m        ^\u001b[0m\n\u001b[0;31mSyntaxError\u001b[0m\u001b[0;31m:\u001b[0m invalid character '😀' (U+1F600)\n"
     ]
    }
   ],
   "metadata": {}
  }
 ],
 "metadata": {
  "orig_nbformat": 4,
  "language_info": {
   "name": "python",
   "version": "3.9.6",
   "mimetype": "text/x-python",
   "codemirror_mode": {
    "name": "ipython",
    "version": 3
   },
   "pygments_lexer": "ipython3",
   "nbconvert_exporter": "python",
   "file_extension": ".py"
  },
  "kernelspec": {
   "name": "python3",
   "display_name": "Python 3.9.6 64-bit ('latest': conda)"
  },
  "interpreter": {
   "hash": "a8657452b1e74e1d606578a8ca0f0df6233030d9798964361ead33ac28e57a7c"
  }
 },
 "nbformat": 4,
 "nbformat_minor": 2
}