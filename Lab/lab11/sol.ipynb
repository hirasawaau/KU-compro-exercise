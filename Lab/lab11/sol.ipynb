{
 "cells": [
  {
   "cell_type": "code",
   "execution_count": 13,
   "source": [
    "def hash(*s):\n",
    "    if ord(s[0]) >= ord(s[1]):\n",
    "        return ord(s[1]) + 10\n",
    "    else:\n",
    "        return ord(s[0]) - 7\n",
    "\n",
    "def isPhotobook(s:str):\n",
    "    global isPhoto\n",
    "    isPhoto = s[0].isalpha() and s[-1].isalpha()\n",
    "    return isPhoto\n",
    "\n",
    "def calKey(s:str):\n",
    "    return sum([hash(s[i],s[i+1]) for i in range(len(s) - 1)])\n",
    "\n",
    "def isPhotobookGenuine(key:int):\n",
    "    if not isPhoto:\n",
    "        return 'Incorrect Type'\n",
    "    return key%2 == 0\n",
    "\n",
    "def isAlbumGenuine(key:int):\n",
    "    if isPhoto:\n",
    "        return 'Incorrect Type'\n",
    "    return key%2 == 1\n",
    "\n",
    "def solve():\n",
    "    n = int(input())\n",
    "    ids = [input() for i in range(n)]\n",
    "\n",
    "    real_photo_book = 0\n",
    "    fake_album = 0  \n",
    "    for id in ids:\n",
    "        # print(id)\n",
    "        isPhotobook(id)\n",
    "        key = calKey(id)\n",
    "        \n",
    "        if isPhoto:\n",
    "            if isPhotobookGenuine(key):\n",
    "                real_photo_book+=1\n",
    "        else:\n",
    "            if isAlbumGenuine(key):\n",
    "                fake_album+=1\n",
    "    \n",
    "    print(real_photo_book)\n",
    "    print(fake_album)\n",
    "\n",
    "        "
   ],
   "outputs": [],
   "metadata": {}
  },
  {
   "cell_type": "code",
   "execution_count": 15,
   "source": [
    "solve()"
   ],
   "outputs": [
    {
     "output_type": "stream",
     "name": "stdout",
     "text": [
      "ZB\n",
      "1\n",
      "0\n"
     ]
    }
   ],
   "metadata": {}
  },
  {
   "cell_type": "code",
   "execution_count": 18,
   "source": [
    "from itertools import combinations\n",
    "\n",
    "list(combinations([('aaa', 11), ('bbb', 4), ('ddd', 3), ('ccc', 11), ('eee', 5)],4))"
   ],
   "outputs": [
    {
     "output_type": "execute_result",
     "data": {
      "text/plain": [
       "<itertools.combinations at 0x7f8d00a6d360>"
      ]
     },
     "metadata": {},
     "execution_count": 18
    }
   ],
   "metadata": {}
  }
 ],
 "metadata": {
  "orig_nbformat": 4,
  "language_info": {
   "name": "python",
   "version": "3.9.6",
   "mimetype": "text/x-python",
   "codemirror_mode": {
    "name": "ipython",
    "version": 3
   },
   "pygments_lexer": "ipython3",
   "nbconvert_exporter": "python",
   "file_extension": ".py"
  },
  "kernelspec": {
   "name": "python3",
   "display_name": "Python 3.9.6 64-bit ('latest': conda)"
  },
  "interpreter": {
   "hash": "a8657452b1e74e1d606578a8ca0f0df6233030d9798964361ead33ac28e57a7c"
  }
 },
 "nbformat": 4,
 "nbformat_minor": 2
}