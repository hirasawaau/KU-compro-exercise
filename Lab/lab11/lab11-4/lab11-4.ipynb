{
 "cells": [
  {
   "cell_type": "code",
   "execution_count": 2,
   "source": [
    "def readFile(fileName: str):\n",
    "    with open(fileName) as file:\n",
    "        raw = file.read().strip().splitlines()\n",
    "    header = raw[0]\n",
    "    return [dict(zip(header.split(','),data.split(','))) for data in raw[1:]]"
   ],
   "outputs": [],
   "metadata": {}
  },
  {
   "cell_type": "code",
   "execution_count": 4,
   "source": [
    "datas = readFile(input('Enter File name: '))\n",
    "filteredData = filter(lambda data:data['coastline'] == 'yes' and data['EU'] == 'no',datas)\n",
    "\n",
    "for data in filteredData:\n",
    "    print(f'{data[\"country\"]} {data[\"population\"]}')"
   ],
   "outputs": [
    {
     "output_type": "stream",
     "name": "stdout",
     "text": [
      "Albania 2.9\n",
      "Bosnia and Herzegovina 3.8\n",
      "Iceland 0.33\n",
      "Montenegro 0.63\n",
      "Norway 5.27\n",
      "Turkey 79.62\n",
      "Ukraine 44.62\n"
     ]
    }
   ],
   "metadata": {}
  }
 ],
 "metadata": {
  "orig_nbformat": 4,
  "language_info": {
   "name": "python",
   "version": "3.9.6",
   "mimetype": "text/x-python",
   "codemirror_mode": {
    "name": "ipython",
    "version": 3
   },
   "pygments_lexer": "ipython3",
   "nbconvert_exporter": "python",
   "file_extension": ".py"
  },
  "kernelspec": {
   "name": "python3",
   "display_name": "Python 3.9.6 64-bit ('latest': conda)"
  },
  "interpreter": {
   "hash": "a8657452b1e74e1d606578a8ca0f0df6233030d9798964361ead33ac28e57a7c"
  }
 },
 "nbformat": 4,
 "nbformat_minor": 2
}