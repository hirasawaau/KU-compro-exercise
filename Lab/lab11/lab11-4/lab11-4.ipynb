{
 "cells": [
  {
   "cell_type": "code",
   "execution_count": 2,
   "source": [
    "def readFile(fileName: str):\n",
    "    with open(fileName) as file:\n",
    "        raw = file.read().strip().splitlines()\n",
    "    header = raw[0]\n",
    "    return [dict(zip(header.split(','),data.split(','))) for data in raw[1:]]"
   ],
   "outputs": [],
   "metadata": {}
  },
  {
   "cell_type": "code",
   "execution_count": 3,
   "source": [
    "datas = readFile(input('Enter File name: '))\n",
    "filteredData = filter(lambda data:data['coastline'] == 'yes' and data['EU'] == 'no',datas)\n",
    "\n",
    "for data in filteredData:\n",
    "    print(f'{data[\"country\"]} {data[\"population\"]}')"
   ],
   "outputs": [
    {
     "output_type": "stream",
     "name": "stdout",
     "text": [
      "Albania 2.9\n",
      "Andorra 0.07\n",
      "Austria 8.57\n",
      "Belarus 9.48\n",
      "Belgium 11.37\n",
      "Bosnia and Herzegovina 3.8\n",
      "Bulgaria 7.1\n",
      "Croatia 4.23\n",
      "Cyprus 1.18\n",
      "Czech Republic 10.55\n",
      "Denmark 5.69\n",
      "Estonia 1.31\n",
      "Finland 5.52\n",
      "France 64.67\n",
      "Germany 80.68\n",
      "Greece 10.92\n",
      "Hungary 9.82\n",
      "Iceland 0.33\n",
      "Ireland 4.71\n",
      "Italy 59.8\n",
      "Kosovo 1.91\n",
      "Latvia 1.96\n",
      "Liechtenstein 0.04\n",
      "Lithuania 2.85\n",
      "Luxembourg 0.58\n",
      "Macedonia 2.08\n",
      "Moldova 4.06\n",
      "Montenegro 0.63\n",
      "Netherlands 16.98\n",
      "Norway 5.27\n",
      "Poland 38.59\n",
      "Portugal 10.3\n",
      "Romania 19.37\n",
      "Serbia 8.81\n",
      "Slovakia 5.43\n",
      "Slovenia 2.07\n",
      "Spain 46.06\n",
      "Sweden 9.85\n",
      "Switzerland 8.38\n",
      "Turkey 79.62\n",
      "Ukraine 44.62\n",
      "United Kingdom 65.11\n"
     ]
    }
   ],
   "metadata": {}
  }
 ],
 "metadata": {
  "orig_nbformat": 4,
  "language_info": {
   "name": "python",
   "version": "3.9.6",
   "mimetype": "text/x-python",
   "codemirror_mode": {
    "name": "ipython",
    "version": 3
   },
   "pygments_lexer": "ipython3",
   "nbconvert_exporter": "python",
   "file_extension": ".py"
  },
  "kernelspec": {
   "name": "python3",
   "display_name": "Python 3.9.6 64-bit ('latest': conda)"
  },
  "interpreter": {
   "hash": "a8657452b1e74e1d606578a8ca0f0df6233030d9798964361ead33ac28e57a7c"
  }
 },
 "nbformat": 4,
 "nbformat_minor": 2
}