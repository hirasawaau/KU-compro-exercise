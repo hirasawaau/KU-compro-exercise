{
 "cells": [
  {
   "cell_type": "code",
   "execution_count": 31,
   "source": [
    "from typing import List,Dict,Any,Tuple\n",
    "import json\n",
    "\n",
    "class Racer:\n",
    "    name:str\n",
    "    ranges:List[int]\n",
    "    velocities:List[int]\n",
    "    response:int\n",
    "    length:float = 0.0\n",
    "    n = 1\n",
    "    def __init__(self,data:Dict[str,Any]) -> None:\n",
    "        self.name = data['name']\n",
    "        self.ranges:List[int] = data['_range']\n",
    "        self.velocities = data['velocity']\n",
    "        self.response = data['response']\n",
    "\n",
    "    def __str__(self):\n",
    "        return self.name\n",
    "        \n",
    "\n",
    "def readRacer(fileName:str) -> List[Racer]:\n",
    "    with open(fileName) as file:\n",
    "        datas = json.loads(file.read().strip())\n",
    "    return sorted([Racer(data) for data in datas['racer']] , key = lambda data:ord(str(data)[0]))\n",
    "\n",
    "\n",
    "completed = []\n",
    "\n",
    "fileName = input('Enter json filename : ')\n",
    "distance = int(input('Enter distance (meter) : '))\n",
    "\n",
    "\n",
    "\n"
   ],
   "outputs": [],
   "metadata": {}
  },
  {
   "cell_type": "code",
   "execution_count": 35,
   "source": [
    "completed:List[Tuple[int,int,str]] = []\n",
    "for racer in readRacer(fileName):\n",
    "    T:float = 0.0\n",
    "    # print(racer.name)\n",
    "    for i in range(len(racer.ranges)):\n",
    "        try:\n",
    "            if racer.ranges[i+1] <= distance:\n",
    "                T += (racer.ranges[i+1] - racer.ranges[i]) / racer.velocities[i]\n",
    "            else:\n",
    "                T += (distance-racer.ranges[i]) / racer.velocities[i]\n",
    "                break\n",
    "        except:\n",
    "            T += (distance-racer.ranges[-1]) / racer.velocities[-1]\n",
    "            \n",
    "    completed.append((float(f'{T:.2f}'),racer.response,racer.name))"
   ],
   "outputs": [],
   "metadata": {}
  },
  {
   "cell_type": "code",
   "execution_count": 37,
   "source": [
    "completed.sort(key=lambda data:(data[0],-data[1],data[2]))"
   ],
   "outputs": [
    {
     "output_type": "execute_result",
     "data": {
      "text/plain": [
       "[(1.67, 10000, 'D'), (1.67, 100, 'A'), (2.17, 1000, 'C'), (13.5, 10, 'B')]"
      ]
     },
     "metadata": {},
     "execution_count": 37
    }
   ],
   "metadata": {}
  },
  {
   "cell_type": "code",
   "execution_count": 39,
   "source": [
    "for i in completed:\n",
    "    print(i[2] , f'{i[0]:.2f}')"
   ],
   "outputs": [
    {
     "output_type": "stream",
     "name": "stdout",
     "text": [
      "D 1.67\n",
      "A 1.67\n",
      "C 2.17\n",
      "B 13.50\n"
     ]
    }
   ],
   "metadata": {}
  }
 ],
 "metadata": {
  "orig_nbformat": 4,
  "language_info": {
   "name": "python",
   "version": "3.6.13",
   "mimetype": "text/x-python",
   "codemirror_mode": {
    "name": "ipython",
    "version": 3
   },
   "pygments_lexer": "ipython3",
   "nbconvert_exporter": "python",
   "file_extension": ".py"
  },
  "kernelspec": {
   "name": "python3",
   "display_name": "Python 3.6.13 64-bit ('cpe35': conda)"
  },
  "interpreter": {
   "hash": "79ad47b933004d578ba4ec19af1d96ce124544fb0f46a88e12a7eff0983b6609"
  }
 },
 "nbformat": 4,
 "nbformat_minor": 2
}