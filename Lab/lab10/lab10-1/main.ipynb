{
 "cells": [
  {
   "cell_type": "code",
   "execution_count": 3,
   "source": [
    "class Std:\n",
    "    id:str\n",
    "    Gender:str\n",
    "    RaceEthnicity:str\n",
    "    ParentalLevelOfEducation: str\n",
    "    Lunch: str\n",
    "    TestPreparationCourse: str\n",
    "    MathScore: int\n",
    "    ReadingScore: int\n",
    "    WritingScore: int\n",
    "\n",
    "    def __init__(self,*args) -> None:\n",
    "        self.id = args[0]\n",
    "        self.Gender = args[1]\n",
    "        self.RaceEthnicity = args[2]\n",
    "        self.ParentalLevelOfEducation = args[3]\n",
    "        self.Lunch = args[4]\n",
    "        self.TestPreparationCourse = args[5]\n",
    "        self.MathScore = int(args[6])\n",
    "        self.ReadingScore = int(args[7])\n",
    "        self.WritingScore = int(args[8])\n",
    "\n",
    "    def show_data(self):\n",
    "        print(f'''gender : {self.Gender}\n",
    "race/ethnicity : {self.RaceEthnicity}\n",
    "parental level of education : {self.ParentalLevelOfEducation}\n",
    "lunch : {self.Lunch}\n",
    "test preparation course : {self.TestPreparationCourse}\n",
    "math score : {self.MathScore}\n",
    "reading score : {self.ReadingScore}\n",
    "writing score : {self.WritingScore}''')\n",
    "\n",
    "    def less_from_max_math_score(self):\n",
    "        print(f'less than max : {maxx - self.MathScore}')\n",
    "\n",
    "    def more_from_min_reading_score(self):\n",
    "        print(f'more than min : {self.ReadingScore - minn}')\n",
    "    \n",
    "    def can_pass(self):\n",
    "        SumScore = sum([self.MathScore,self.ReadingScore,self.WritingScore])\n",
    "        if SumScore > 240: \n",
    "            print(\"Pass\")\n",
    "        else:\n",
    "            print(\"Can't pass\")\n",
    "    \n",
    "    def __str__(self):\n",
    "        return f'''math score : {self.MathScore}, reading score : {self.ReadingScore}, writing score : {self.WritingScore}'''"
   ],
   "outputs": [],
   "metadata": {}
  },
  {
   "cell_type": "markdown",
   "source": [],
   "metadata": {}
  },
  {
   "cell_type": "code",
   "execution_count": 1,
   "source": [
    "import csv\n",
    "maxx = -1\n",
    "minn = 1e9\n",
    "\n",
    "def read_csv(filename):\n",
    "    with open(filename) as f:\n",
    "        global maxx , minn\n",
    "        datas = csv.reader(f)\n",
    "        data = [ i for i in datas]\n",
    "        for i in range(1,len(data)) :\n",
    "            maxx = max(maxx,int(data[i][6]))\n",
    "            minn = min(minn,int(data[i][7]))\n",
    "    return data"
   ],
   "outputs": [],
   "metadata": {}
  },
  {
   "cell_type": "code",
   "execution_count": 2,
   "source": [
    "datas = read_csv('StudentsPerformance.csv')"
   ],
   "outputs": [],
   "metadata": {}
  },
  {
   "cell_type": "code",
   "execution_count": 5,
   "source": [
    "\n",
    "classes = list()\n",
    "for i in range(1,len(datas)) :\n",
    "    data = Std(datas[i][0],datas[i][1],datas[i][2],datas[i][3],datas[i][4],datas[i][5],datas[i][6],datas[i][7],datas[i][8])\n",
    "    classes.append(data)\n",
    "\n",
    "\n",
    "menu = int(input(\"Menu : \"))\n",
    "id = input(\"ID : \")\n",
    "for i in classes :\n",
    "    if i.id == id :\n",
    "        if menu == 1 : # show data\n",
    "            i.show_data()\n",
    "        elif menu == 2 : # less_from_max_math_score\n",
    "            i.less_from_max_math_score()\n",
    "        elif menu == 3 : # more_from_min_reading_score\n",
    "            i.more_from_min_reading_score()\n",
    "        elif menu == 4: # can_pass\n",
    "            i.can_pass()\n",
    "        elif menu == 5: # print\n",
    "            print(i)\n",
    "        break"
   ],
   "outputs": [
    {
     "output_type": "stream",
     "name": "stdout",
     "text": [
      "more than min : 61\n"
     ]
    }
   ],
   "metadata": {}
  }
 ],
 "metadata": {
  "orig_nbformat": 4,
  "language_info": {
   "name": "python",
   "version": "3.6.13",
   "mimetype": "text/x-python",
   "codemirror_mode": {
    "name": "ipython",
    "version": 3
   },
   "pygments_lexer": "ipython3",
   "nbconvert_exporter": "python",
   "file_extension": ".py"
  },
  "kernelspec": {
   "name": "python3",
   "display_name": "Python 3.6.13 64-bit ('cpe35': conda)"
  },
  "interpreter": {
   "hash": "79ad47b933004d578ba4ec19af1d96ce124544fb0f46a88e12a7eff0983b6609"
  }
 },
 "nbformat": 4,
 "nbformat_minor": 2
}