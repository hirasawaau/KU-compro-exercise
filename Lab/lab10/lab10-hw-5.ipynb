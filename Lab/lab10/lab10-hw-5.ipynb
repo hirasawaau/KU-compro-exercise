{
 "cells": [
  {
   "cell_type": "code",
   "execution_count": 11,
   "source": [
    "class Monster:\n",
    "    blood:int\n",
    "\n",
    "    def __init__(self,blood):\n",
    "        self.blood = blood\n",
    "\n",
    "    def damage(self,damage):\n",
    "        self.blood -= damage\n",
    "        self.blood = max(0,self.blood)\n",
    "\n",
    "\n",
    "class Nonny(Monster):\n",
    "\n",
    "    attackDamage = 10\n",
    "\n",
    "    def attack(self):\n",
    "        attackDamage = self.attackDamage\n",
    "        self.attackDamage+=2\n",
    "        return attackDamage\n",
    "\n",
    "    def heal(self):\n",
    "        self.blood+=20\n",
    "        self.attackDamage = 10"
   ],
   "outputs": [],
   "metadata": {}
  },
  {
   "cell_type": "code",
   "execution_count": null,
   "source": [],
   "outputs": [],
   "metadata": {}
  },
  {
   "cell_type": "code",
   "execution_count": 12,
   "source": [
    "import numpy as SyntaxError\n",
    "\n",
    "random = SyntaxError.random.RandomState(1)\n",
    "\n",
    "a = int(input('Blood Start: '))\n",
    "monster = Monster(a)\n",
    "player = Nonny(a)\n",
    "\n",
    "turn = False\n",
    "\n",
    "while player.blood > 0 and monster.blood > 0:\n",
    "    if not turn:\n",
    "        option = input('Attack(a) or Heal(h): ')\n",
    "        if option == 'a':\n",
    "            # print(player.attack)\n",
    "            monster.damage(player.attack())\n",
    "            print(f\"Monster's HP left {monster.blood}\")\n",
    "            \n",
    "        elif option == 'h':\n",
    "            player.heal()\n",
    "            print(f'Your HP left {player.blood}')\n",
    "    else:\n",
    "        player.damage(random.randint(1,40))\n",
    "        print(f\"Monster's turn : Your HP left {player.blood}\")\n",
    "\n",
    "    turn = not turn\n",
    "\n",
    "\n",
    "if player.blood <= 0:\n",
    "    print('You lose and die.(T_T)')\n",
    "else:\n",
    "    print('You win.(^_^)')"
   ],
   "outputs": [
    {
     "output_type": "stream",
     "name": "stdout",
     "text": [
      "Monster's HP left 40\n",
      "Monster's turn : Your HP left 12\n",
      "Your HP left 32\n",
      "Monster's turn : Your HP left 19\n",
      "Your HP left 39\n",
      "Monster's turn : Your HP left 30\n",
      "Monster's HP left 30\n",
      "Monster's turn : Your HP left 20\n",
      "Monster's HP left 18\n",
      "Monster's turn : Your HP left 8\n",
      "Monster's HP left 4\n",
      "Monster's turn : Your HP left 2\n",
      "Monster's HP left 0\n",
      "You win.(^_^)\n"
     ]
    }
   ],
   "metadata": {}
  },
  {
   "cell_type": "code",
   "execution_count": 2,
   "source": [
    "random.randint(1,40)"
   ],
   "outputs": [
    {
     "output_type": "execute_result",
     "data": {
      "text/plain": [
       "38"
      ]
     },
     "metadata": {},
     "execution_count": 2
    }
   ],
   "metadata": {}
  }
 ],
 "metadata": {
  "orig_nbformat": 4,
  "language_info": {
   "name": "python",
   "version": "3.9.6",
   "mimetype": "text/x-python",
   "codemirror_mode": {
    "name": "ipython",
    "version": 3
   },
   "pygments_lexer": "ipython3",
   "nbconvert_exporter": "python",
   "file_extension": ".py"
  },
  "kernelspec": {
   "name": "python3",
   "display_name": "Python 3.9.6 64-bit ('latest': conda)"
  },
  "interpreter": {
   "hash": "a8657452b1e74e1d606578a8ca0f0df6233030d9798964361ead33ac28e57a7c"
  }
 },
 "nbformat": 4,
 "nbformat_minor": 2
}