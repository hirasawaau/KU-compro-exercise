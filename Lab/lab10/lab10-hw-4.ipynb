{
 "cells": [
  {
   "cell_type": "code",
   "execution_count": 19,
   "source": [
    "from typing import Dict,List\n",
    "\n",
    "class py_solution:\n",
    "    o = []\n",
    "    Open = ['{','[','(']\n",
    "    Close = ['}',']',')']\n",
    "    OverDick: Dict[str,str]\n",
    "    def __init__(self,string):\n",
    "        self.string = string\n",
    "        self.OverDick = dict(zip(self.Close,self.Open))\n",
    "\n",
    "    def is_valid_parentheses(self):\n",
    "        for string in self.string:\n",
    "            if string in self.Open:\n",
    "                self.o.append(string)\n",
    "            if string in self.Close:\n",
    "                if self.o[-1] == self.OverDick[string]:\n",
    "                    self.o.pop()\n",
    "                else:\n",
    "                    return False\n",
    "\n",
    "        if len(self.o) > 0:\n",
    "            return False\n",
    "\n",
    "        return True\n",
    "        "
   ],
   "outputs": [],
   "metadata": {}
  },
  {
   "cell_type": "code",
   "execution_count": 20,
   "source": [
    "py_sol = py_solution(input('input: '))\n",
    "print('valid parentheses') if py_sol.is_valid_parentheses() else print('invalid parentheses')"
   ],
   "outputs": [
    {
     "output_type": "stream",
     "name": "stdout",
     "text": [
      "True\n"
     ]
    }
   ],
   "metadata": {}
  }
 ],
 "metadata": {
  "orig_nbformat": 4,
  "language_info": {
   "name": "python",
   "version": "3.6.13",
   "mimetype": "text/x-python",
   "codemirror_mode": {
    "name": "ipython",
    "version": 3
   },
   "pygments_lexer": "ipython3",
   "nbconvert_exporter": "python",
   "file_extension": ".py"
  },
  "kernelspec": {
   "name": "python3",
   "display_name": "Python 3.6.13 64-bit ('cpe35': conda)"
  },
  "interpreter": {
   "hash": "79ad47b933004d578ba4ec19af1d96ce124544fb0f46a88e12a7eff0983b6609"
  }
 },
 "nbformat": 4,
 "nbformat_minor": 2
}