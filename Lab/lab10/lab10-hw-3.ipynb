{
 "cells": [
  {
   "cell_type": "code",
   "execution_count": 22,
   "source": [
    "import numpy as np\n",
    "from typing import List\n",
    "\n",
    "MatrixType = List[List[int]]\n",
    "\n",
    "class Matrix:\n",
    "    def __init__(self,matrix) -> None:\n",
    "        self.data = np.array(matrix)\n",
    "        pass\n",
    "\n",
    "    def det(self):\n",
    "        a = self.data\n",
    "        return (a[0][0] * (a[1][1] * a[2][2] - a[2][1] * a[1][2]) -a[1][0] * (a[0][1] * a[2][2] - a[2][1] * a[0][2]) +a[2][0] * (a[0][1] * a[1][2] - a[1][1] * a[0][2]))\n",
    "\n",
    "    def show(self):\n",
    "        data = self.data.tolist()\n",
    "        for i in range(len(data)):\n",
    "            for j in range(len(data[i])):\n",
    "                print(f'{data[i][j]:^6}', end = ' ')\n",
    "            print()\n",
    "\n",
    "    def plus(self,matrix):\n",
    "        return Matrix(self.data + matrix.data)\n",
    "\n",
    "    def minus(self,matrix):\n",
    "        return Matrix(self.data + (-matrix.data))\n",
    "\n",
    "    def multiply(self,matrix):\n",
    "        return Matrix(np.matmul(self.data,matrix.data))"
   ],
   "outputs": [],
   "metadata": {}
  },
  {
   "cell_type": "code",
   "execution_count": 23,
   "source": [
    "# do not submit this code!!!\n",
    "def input_matrix():\n",
    "    data = []\n",
    "    for i in range(3):\n",
    "        data.append([int(j) for j in input(f\"Row {i+1} : \").split(' ')])\n",
    "    return data\n",
    "\n",
    "print(\"input row of matrix A\")\n",
    "A = Matrix(input_matrix())\n",
    "print(\"input row of matrix B\")\n",
    "B = Matrix(input_matrix())\n",
    "\n",
    "print(f'Det of Matrix(A) = {A.det()}')\n",
    "print(f'Det of Matrix(B) = {B.det()}')\n",
    "\n",
    "print(\"Matrix(A+B) is:\")\n",
    "res = A.plus(B)\n",
    "res.show()\n",
    "\n",
    "print(\"Matrix(A-B) is:\")\n",
    "res = A.minus(B)\n",
    "res.show()\n",
    "\n",
    "print(\"Matrix(A*B) is:\")\n",
    "res = A.multiply(B)\n",
    "res.show()"
   ],
   "outputs": [
    {
     "output_type": "stream",
     "name": "stdout",
     "text": [
      "input row of matrix A\n",
      "input row of matrix B\n",
      "Det of Matrix(A) = 4\n",
      "Det of Matrix(B) = 20\n",
      "Matrix(A+B) is:\n",
      "  5      2      2    \n",
      "  2      5      2    \n",
      "  2      2      5    \n",
      "Matrix(A-B) is:\n",
      "  -1     0      0    \n",
      "  0      -1     0    \n",
      "  0      0      -1   \n",
      "Matrix(A*B) is:\n",
      "  8      6      6    \n",
      "  6      8      6    \n",
      "  6      6      8    \n"
     ]
    }
   ],
   "metadata": {}
  }
 ],
 "metadata": {
  "orig_nbformat": 4,
  "language_info": {
   "name": "python",
   "version": "3.6.13",
   "mimetype": "text/x-python",
   "codemirror_mode": {
    "name": "ipython",
    "version": 3
   },
   "pygments_lexer": "ipython3",
   "nbconvert_exporter": "python",
   "file_extension": ".py"
  },
  "kernelspec": {
   "name": "python3",
   "display_name": "Python 3.6.13 64-bit ('cpe35': conda)"
  },
  "interpreter": {
   "hash": "79ad47b933004d578ba4ec19af1d96ce124544fb0f46a88e12a7eff0983b6609"
  }
 },
 "nbformat": 4,
 "nbformat_minor": 2
}