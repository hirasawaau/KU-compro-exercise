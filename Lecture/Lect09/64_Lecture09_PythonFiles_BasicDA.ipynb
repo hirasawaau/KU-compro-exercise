{
  "nbformat": 4,
  "nbformat_minor": 0,
  "metadata": {
    "colab": {
      "name": "64_Lecture09_PythonFiles_BasicDA.ipynb",
      "provenance": [],
      "collapsed_sections": [
        "Egd4qCoJOSkh",
        "Jx7ImnuSO5H8",
        "Bx9gccFPPL2b",
        "dQDwRgdgPtqZ",
        "wRvgZHaVRXBU",
        "A0gWHrSNS7lq",
        "ZS96Nf4JTmbN",
        "qkxZflT5T-Rc",
        "JGHc6YnjURHM",
        "-cZ3JbqkVD3J",
        "jSgJMfVKUxnK",
        "IuEXu8OvU0tZ",
        "MvtSA2dGaHjN",
        "zFz1rJzFUVYA",
        "BOLvbXrJU7HK",
        "eQeHWvsIUXJ0",
        "KHE_Fnb0ZzP5",
        "DZj35kR5jwbo",
        "vK6pyS-ansXq",
        "cfwBLuae9I7H",
        "def95mkkFzHF",
        "8SvOwqv9Fgwt",
        "jRQN_Y0GGLzs",
        "HanWaxH5HI86",
        "Q8_o6C28Jzfl",
        "jrSPurD8IRAx",
        "javh59laLlR7",
        "02PNMcoQQsjR",
        "NNNFXnBpnhC_",
        "sMhAce6Anr0t",
        "CoMM1hfgn6od",
        "7436miEmoFq0",
        "6mH8g9jVoujb"
      ],
      "include_colab_link": true
    },
    "kernelspec": {
      "name": "python3",
      "display_name": "Python 3"
    }
  },
  "cells": [
    {
      "cell_type": "markdown",
      "metadata": {
        "id": "view-in-github",
        "colab_type": "text"
      },
      "source": [
        "<a href=\"https://colab.research.google.com/github/kuntoto/01204111_CPExx/blob/main/Lecture09/64_Lecture09_PythonFiles_BasicDA.ipynb\" target=\"_parent\"><img src=\"https://colab.research.google.com/assets/colab-badge.svg\" alt=\"Open In Colab\"/></a>"
      ]
    },
    {
      "cell_type": "markdown",
      "metadata": {
        "id": "Egd4qCoJOSkh"
      },
      "source": [
        "# Python Files\n",
        "\n",
        "Python has various methods for performing operations against files.\n",
        "\n",
        "Acknowledement: http://www.python-ds.com/python-read-write-files\n"
      ]
    },
    {
      "cell_type": "markdown",
      "metadata": {
        "id": "Jx7ImnuSO5H8"
      },
      "source": [
        "## Open a File"
      ]
    },
    {
      "cell_type": "markdown",
      "metadata": {
        "id": "mK7K34TtOe2s"
      },
      "source": [
        "When we read or write a file, the first thing we need to do is to open it (or to create it). Python provides the `open()` method that is used to open a file. It also creates the file if it doesn't already exist.\n",
        "\n",
        "The `open()` syntax is like this:\n",
        "```\n",
        "open(filename, mode)\n",
        "```\n",
        "\n",
        "Function `open()` takes two parameters. The first one provides the name of the file, and the second one specifies the mode to be used. A mode of `r` means \"read\", mode of `w` means \"write\", and `a` means \"append\". We can append the mode with `b` to specify binary mode. You can also do stuff like `r+` to make it read and write."
      ]
    },
    {
      "cell_type": "markdown",
      "metadata": {
        "id": "Bx9gccFPPL2b"
      },
      "source": [
        "## Creat a File"
      ]
    },
    {
      "cell_type": "markdown",
      "metadata": {
        "id": "xdtq-bpcPYFa"
      },
      "source": [
        "Here's an example of creating a new file:\n"
      ]
    },
    {
      "cell_type": "code",
      "metadata": {
        "id": "A4l77GUIRe9D"
      },
      "source": [
        "# Create the file in 'write' mode\n",
        "f = open(\"hello.txt\", \"w\")\n",
        "\n",
        "# Write some text to the file\n",
        "f.write(\"Hello World!, World!\")\n",
        "\n",
        "# Close the file\n",
        "f.close()\n",
        "\n",
        "print('Done.')"
      ],
      "execution_count": null,
      "outputs": []
    },
    {
      "cell_type": "markdown",
      "metadata": {
        "id": "jKcIAYOgPgtx"
      },
      "source": [
        "The first line creates the file (because it doesn't already exist) and opens it in write mode (because we specified `w`). If the file already existed, it would simply open the existing file in write mode. We assign the file to a variable `f` so that we can perform operations against it.\n",
        "\n",
        "We then write some text to the file using the `write()` method.\n",
        "\n",
        "Once we're done, we close the file. This is good practice, as it will free up system resources."
      ]
    },
    {
      "cell_type": "markdown",
      "metadata": {
        "id": "dQDwRgdgPtqZ"
      },
      "source": [
        "## Read a File"
      ]
    },
    {
      "cell_type": "markdown",
      "metadata": {
        "id": "ei847uo0RKOE"
      },
      "source": [
        "Now that we've created a file and added some content to it, we can read it. Here's how:\n"
      ]
    },
    {
      "cell_type": "code",
      "metadata": {
        "id": "NFqdAQB4OJHh"
      },
      "source": [
        "# Open the file in 'read' mode\n",
        "f = open(\"hello.txt\", \"r\")\n",
        "\n",
        "# Put the contents of the file into a variable\n",
        "f_contents = f.read()\n",
        "\n",
        "# Close the file\n",
        "f.close()\n",
        "\n",
        "# Print the file's contents\n",
        "print(f_contents)\n",
        "\n",
        "print('Done.')"
      ],
      "execution_count": null,
      "outputs": []
    },
    {
      "cell_type": "markdown",
      "metadata": {
        "id": "ggEFuMRdSBc8"
      },
      "source": [
        "It's very similar to the previous example, in that we open the file, do our stuff, then close it.\n",
        "\n",
        "The main differences are:\n",
        "\n",
        "* This time we use `r` as the mode.\n",
        "* We use `read()` to read the file (and assign it to a variable we call `f_contents`).\n",
        "* We use `print()` to print the contents of the file.\n",
        "\n",
        "Notice that, because we assigned the contents to a variable, we could print the file's contents after we closed the file. Basically, we opened the file, copied what we needed, then closed the file again."
      ]
    },
    {
      "cell_type": "markdown",
      "metadata": {
        "id": "wRvgZHaVRXBU"
      },
      "source": [
        "## Update a File"
      ]
    },
    {
      "cell_type": "markdown",
      "metadata": {
        "id": "pyn28ONdSTux"
      },
      "source": [
        "The `write()` method can also be used to update the file. To do this, just open the file and apply `write()` with the updated contents. Note that this will completely replace the existing content with the new content."
      ]
    },
    {
      "cell_type": "code",
      "metadata": {
        "id": "vPFcslzLSelp"
      },
      "source": [
        "# Read the original file and print\n",
        "f = open(\"hello.txt\", \"r\")\n",
        "f_contents = f.read()\n",
        "print(\"Original content:\\n\" + f_contents)\n",
        "f.close()\n",
        "\n",
        "# Update the file\n",
        "f = open(\"hello.txt\", \"w\")\n",
        "f_contents = \"Hey there Jupiter!\"\n",
        "f.write(f_contents)\n",
        "f.close()\n",
        "\n",
        "# Read the updated file and print\n",
        "f = open(\"hello.txt\", \"r\")\n",
        "f_contents = f.read()\n",
        "print(\"Updated content:\\n\" + f_contents)\n",
        "f.close()\n",
        "\n",
        "print('Done.')"
      ],
      "execution_count": null,
      "outputs": []
    },
    {
      "cell_type": "markdown",
      "metadata": {
        "id": "A0gWHrSNS7lq"
      },
      "source": [
        "## Append a File"
      ]
    },
    {
      "cell_type": "markdown",
      "metadata": {
        "id": "Aa2jWoBrS-D_"
      },
      "source": [
        "We can also append content to a file. This means that we can add content to the existing content. In other words, the original content remains intact, and your new content is appended to the end.\n",
        "\n",
        "To do this, simply change the `w` argument to `a` when updating the file using the `open()` method. This opens the file in \"append\" mode."
      ]
    },
    {
      "cell_type": "code",
      "metadata": {
        "id": "n9AKHvQZTJe3"
      },
      "source": [
        "# Read the original file and print\n",
        "f = open(\"hello.txt\", \"r\")\n",
        "f_contents = f.read()\n",
        "print(\"Original content:\\n\" + f_contents)\n",
        "f.close()\n",
        "\n",
        "# Update the file\n",
        "f = open(\"hello.txt\", \"a\")\n",
        "f_contents = \"\\n\" + \"Hey there Uranus!\"\n",
        "f.write(f_contents)\n",
        "f.close()\n",
        "\n",
        "# Read the updated file and print\n",
        "f = open(\"hello.txt\", \"r\")\n",
        "f_contents = f.read()\n",
        "print(\"Updated content:\\n\" + f_contents)\n",
        "f.close()\n",
        "\n",
        "print('Done.')"
      ],
      "execution_count": null,
      "outputs": []
    },
    {
      "cell_type": "markdown",
      "metadata": {
        "id": "ZS96Nf4JTmbN"
      },
      "source": [
        "## Read a Single Line"
      ]
    },
    {
      "cell_type": "markdown",
      "metadata": {
        "id": "kAn90NcvTo31"
      },
      "source": [
        "We can use `readline()` to read a single line in the file:"
      ]
    },
    {
      "cell_type": "code",
      "metadata": {
        "id": "3VRN5nzqTszV"
      },
      "source": [
        "f = open(\"hello.txt\", \"r\")\n",
        "line1 = f.readline()\n",
        "line2 = f.readline()\n",
        "print(\"Line 1:\", line1.strip())\n",
        "print(\"Line 2:\", line2.strip())\n",
        "#print(\"Line 1:\", line1)\n",
        "#print(\"Line 2:\", line2)\n",
        "f.close()\n",
        "\n",
        "print('Done.')"
      ],
      "execution_count": null,
      "outputs": []
    },
    {
      "cell_type": "markdown",
      "metadata": {
        "id": "qkxZflT5T-Rc"
      },
      "source": [
        "## Loop over the Lines"
      ]
    },
    {
      "cell_type": "markdown",
      "metadata": {
        "id": "eC-l3K7lUB_j"
      },
      "source": [
        "We can use a for loop to loop over each line in the file. Here's how that works:"
      ]
    },
    {
      "cell_type": "code",
      "metadata": {
        "id": "dEiv_dyGUFGc"
      },
      "source": [
        "f = open(\"hello.txt\", \"r\")\n",
        "i = 0\n",
        "for line in f:\n",
        "    i += 1 \n",
        "    print(f\"Line{i:02}:\", line, end=\"\")\n",
        "f.close()\n",
        "\n",
        "print('\\nDone.')"
      ],
      "execution_count": null,
      "outputs": []
    },
    {
      "cell_type": "markdown",
      "metadata": {
        "id": "JGHc6YnjURHM"
      },
      "source": [
        "## Read Multiple Lines as a List"
      ]
    },
    {
      "cell_type": "markdown",
      "metadata": {
        "id": "hDj-UHfoUVeD"
      },
      "source": [
        "We can use the `readlines()` or the `list()` methods to return all lines in a list. Like this:"
      ]
    },
    {
      "cell_type": "code",
      "metadata": {
        "id": "UGlSJ9n0UaOb"
      },
      "source": [
        "# Using 'readlines()'\n",
        "f = open(\"hello.txt\", \"r\")\n",
        "f_content = f.readlines()\n",
        "print(f_content)\n",
        "f.close()\n",
        "\n",
        "# Using 'list()'\n",
        "f = open(\"hello.txt\", \"r\")\n",
        "f_content = list(f)\n",
        "print(f_content)\n",
        "f.close()\n",
        "\n",
        "print('Done.')"
      ],
      "execution_count": null,
      "outputs": []
    },
    {
      "cell_type": "markdown",
      "metadata": {
        "id": "-cZ3JbqkVD3J"
      },
      "source": [
        "## `with` Statement"
      ]
    },
    {
      "cell_type": "markdown",
      "metadata": {
        "id": "18dbOXtiVJfY"
      },
      "source": [
        "It’s important to remember that it’s the programmer's responsibility to close the file. In most cases, upon termination of an application or script, a file will be closed eventually. However, there is no guarantee when exactly that will happen. This can lead to unwanted behavior including resource leaks. It’s also a best practice within Python (**Pythonic**) to make sure that your code behaves in a way that is well defined and reduces any unwanted behavior.\n",
        "\n",
        "Therefore, when we’re manipulating a file, there are two ways that we can use to ensure that a file is closed properly, even when encountering an error. The first way to close a file is to use the `try-finally` block:"
      ]
    },
    {
      "cell_type": "code",
      "metadata": {
        "id": "Gv_lcAhYVrTZ",
        "colab": {
          "base_uri": "https://localhost:8080/"
        },
        "outputId": "eb43a15f-0ffc-4896-ea15-321277b5884d"
      },
      "source": [
        "s='''2 3 5 6 2\n",
        "1 3 4 7 1\n",
        "6 5 4 1 3\n",
        "2 3 7 9 6'''\n",
        "\n",
        "f = open('city_view01.txt', 'w')\n",
        "try: # file processing goes here in try block\n",
        "  f.write(s)\n",
        "finally: # always execute instructions in finally block\n",
        "  f.close()\n",
        "\n",
        "f = open('city_view01.txt') # default r mode\n",
        "try: # file processing goes here in try block\n",
        "  lines = [line for line in f.read().split('\\n')]\n",
        "  print(lines)\n",
        "  for i in lines:\n",
        "    print(i)\n",
        "finally: # always execute instructions in finally block\n",
        "  f.close()\n",
        "\n",
        "print('Done.')"
      ],
      "execution_count": null,
      "outputs": [
        {
          "output_type": "stream",
          "text": [
            "['2 3 5 6 2', '1 3 4 7 1', '6 5 4 1 3', '2 3 7 9 6']\n",
            "2 3 5 6 2\n",
            "1 3 4 7 1\n",
            "6 5 4 1 3\n",
            "2 3 7 9 6\n",
            "Done.\n"
          ],
          "name": "stdout"
        }
      ]
    },
    {
      "cell_type": "code",
      "metadata": {
        "id": "f5D4Y5og1rkS",
        "colab": {
          "base_uri": "https://localhost:8080/"
        },
        "outputId": "0bde165c-0852-40fe-dada-8449fb386a5c"
      },
      "source": [
        "f = open('city_view01.txt')\n",
        "s = f.read()\n",
        "f.close()\n",
        "print(s)\n",
        "lines = []\n",
        "for i in s.split('\\n'):\n",
        "  lines.append(i)\n",
        "print(lines)"
      ],
      "execution_count": null,
      "outputs": [
        {
          "output_type": "stream",
          "text": [
            "2 3 5 6 2\n",
            "1 3 4 7 1\n",
            "6 5 4 1 3\n",
            "2 3 7 9 6\n",
            "['2 3 5 6 2', '1 3 4 7 1', '6 5 4 1 3', '2 3 7 9 6']\n"
          ],
          "name": "stdout"
        }
      ]
    },
    {
      "cell_type": "markdown",
      "metadata": {
        "id": "bykh6seMYG1a"
      },
      "source": [
        "The second way to close a file is to use the `with` statement:"
      ]
    },
    {
      "cell_type": "code",
      "metadata": {
        "id": "XzBakPh6YK3I",
        "colab": {
          "base_uri": "https://localhost:8080/"
        },
        "outputId": "3a131f4d-f7a2-43a2-d609-650dda37227c"
      },
      "source": [
        "with open('city_view01.txt') as f:\n",
        "  lines = [line for line in f.read().split('\\n')]\n",
        "  print(lines)\n",
        "  for i in lines:\n",
        "    print(i)\n",
        "\n",
        "print('Done.')"
      ],
      "execution_count": null,
      "outputs": [
        {
          "output_type": "stream",
          "text": [
            "['2 3 5 6 2', '1 3 4 7 1', '6 5 4 1 3', '2 3 7 9 6']\n",
            "2 3 5 6 2\n",
            "1 3 4 7 1\n",
            "6 5 4 1 3\n",
            "2 3 7 9 6\n",
            "Done.\n"
          ],
          "name": "stdout"
        }
      ]
    },
    {
      "cell_type": "markdown",
      "metadata": {
        "id": "2BJKl_hEYfBf"
      },
      "source": [
        "The `with` statement *automatically* takes care of closing the file once it leaves the `with` **block**, even in cases of error. It is highly recommended that we use the `with` statement as much as possible, as it allows for cleaner code and makes handling any unexpected errors easier."
      ]
    },
    {
      "cell_type": "markdown",
      "metadata": {
        "id": "jSgJMfVKUxnK"
      },
      "source": [
        "# Problem Solving"
      ]
    },
    {
      "cell_type": "markdown",
      "metadata": {
        "id": "IuEXu8OvU0tZ"
      },
      "source": [
        "### Pb01 [GPA Calculator]\n",
        "Write a Python program that reads a CSV file containing a list of subjects, their credits, and the grades received. The program then prints out the grade summary, the total credits, and the grade point average (GPA) with two decimal places.\n",
        "\n",
        "Each line in a grade data file is of this form:\n",
        "```\n",
        "subject-code,credits,grade\n",
        "```\n",
        "The program must be able to correctly ignore empty lines in the input file.\n",
        "\n"
      ]
    },
    {
      "cell_type": "markdown",
      "metadata": {
        "id": "RSQCAmR5dHCn"
      },
      "source": [
        "Examples\n",
        "\n",
        "Suppose the file grades1.txt contains the following:\n",
        "```\n",
        "01204111,3,A\n",
        "01208111,3,B\n",
        "01204422,1,C+\n",
        "```\n",
        "The output of the program when specifying grades1.txt as input is:\n",
        "```\n",
        "Enter grade file: grades1.txt\n",
        "subject: 01204111 credits: 3 grade: A  point: 4.0\n",
        "subject: 01208111 credits: 3 grade: B  point: 3.0\n",
        "subject: 01204422 credits: 1 grade: C+ point: 2.5\n",
        "Total credits = 7\n",
        "GPA = 3.36\n",
        "```\n",
        "\n",
        "Suppose the file grades2.txt contains the following:\n",
        "```\n",
        "01175165,1,A\n",
        "01204111,3,B\n",
        "\n",
        "01355111,3,B+\n",
        "01355112,3,C\n",
        "01355113,3,D+\n",
        "\n",
        "01417167,3,F\n",
        "01420111,3,C+\n",
        "01420113,1,C\n",
        "\n",
        "01999021,3,D\n",
        "01999043,3,A\n",
        "01999111,2,A\n",
        "```\n",
        "The output of the program when specifying grades2.txt as input is:\n",
        "```\n",
        "Enter grade file: grades2.txt\n",
        "subject: 01175165 credits: 1 grade: A  point: 4.0\n",
        "subject: 01204111 credits: 3 grade: B  point: 3.0\n",
        "subject: 01355111 credits: 3 grade: B+ point: 3.5\n",
        "subject: 01355112 credits: 3 grade: C  point: 2.0\n",
        "subject: 01355113 credits: 3 grade: D+ point: 1.5\n",
        "subject: 01417167 credits: 3 grade: F  point: 0.0\n",
        "subject: 01420111 credits: 3 grade: C+ point: 2.5\n",
        "subject: 01420113 credits: 1 grade: C  point: 2.0\n",
        "subject: 01999021 credits: 3 grade: D  point: 1.0\n",
        "subject: 01999043 credits: 3 grade: A  point: 4.0\n",
        "subject: 01999111 credits: 2 grade: A  point: 4.0\n",
        "Total credits = 28\n",
        "GPA = 2.38\n",
        "```"
      ]
    },
    {
      "cell_type": "code",
      "metadata": {
        "id": "AHxiLTdNdFiD"
      },
      "source": [
        "#-----------------------------------------------------------------\n",
        "## run this code block to create grade1.txt and grade2.txt\n",
        "#-----------------------------------------------------------------\n",
        "grade1 = '''\n",
        "01204111,3,A\n",
        "01208111,3,B\n",
        "01204422,1,C+'''\n",
        "\n",
        "grade2 = '''\n",
        "01175165,1,A\n",
        "01204111,3,B\n",
        " \n",
        "01355111,3,B+\n",
        "01355112,3,C\n",
        "01355113,3,D+\n",
        " \n",
        "01417167,3,F\n",
        "01420111,3,C+\n",
        "01420113,1,C\n",
        " \n",
        "01999021,3,D\n",
        "01999043,3,A\n",
        "01999111,2,A'''\n",
        "\n",
        "with open('grade1.txt', 'w') as f:\n",
        "  f.write(grade1)\n",
        "\n",
        "with open('grade2.txt', 'w') as f:\n",
        "  f.write(grade2)\n",
        "\n",
        "with open('grade1.txt') as f:\n",
        "  s = f.read()\n",
        "  print(s)\n",
        "\n",
        "print('Done.')"
      ],
      "execution_count": null,
      "outputs": []
    },
    {
      "cell_type": "markdown",
      "metadata": {
        "id": "4ynUlh43AQTi"
      },
      "source": [
        "#### Step by Step Solution to Pb01"
      ]
    },
    {
      "cell_type": "code",
      "metadata": {
        "id": "twtQim96eHeP"
      },
      "source": [
        "with open('grade1.txt') as f:\n",
        "  s = f.readlines()\n",
        "  print(s)\n",
        "\n",
        "scores = []\n",
        "for i in s:\n",
        "  if i.strip() != '': # handle blank line\n",
        "    tmp = []\n",
        "    for j in i.strip().split(','):\n",
        "      tmp.append(j.upper())\n",
        "    scores.append(tmp)\n",
        "\n",
        "print(scores)"
      ],
      "execution_count": null,
      "outputs": []
    },
    {
      "cell_type": "code",
      "metadata": {
        "id": "2DkCeXW0ObSj"
      },
      "source": [
        "def readGrade(filename):\n",
        "  with open(filename) as f:\n",
        "    s = f.readlines()\n",
        "  scores = []\n",
        "  for i in s:\n",
        "    if i.strip() != '': # handle nlank line\n",
        "      tmp = []\n",
        "      for j in i.strip().split(','):\n",
        "        tmp.append(j.upper())\n",
        "      scores.append(tmp)\n",
        "  return scores\n",
        "\n",
        "scores = readGrade('grade1.txt')\n",
        "print(scores)\n",
        "\n",
        "for i in scores:\n",
        "  print(i[0], i[1], i[2])"
      ],
      "execution_count": null,
      "outputs": []
    },
    {
      "cell_type": "code",
      "metadata": {
        "id": "7IVQCugQPXrn"
      },
      "source": [
        "def printGrade(s):\n",
        "  g = {'A':4, 'B+':3.5, 'B':3, 'C+':2.5, 'C':2, 'D+':1.5, 'D':1, 'F':0}\n",
        "  totalCredit, mysum = 0, 0\n",
        "  for i in s:\n",
        "    subj, cred, grade = i[0], int(i[1]), g[i[2]]\n",
        "    totalCredit += cred\n",
        "    mysum += cred * grade\n",
        "    print(f'subject: {subj} credits: {cred} grade: {i[2]:<2} point: {grade:.1f}')\n",
        "  print(f'Total credits = {totalCredit}')\n",
        "  gpa = mysum / totalCredit\n",
        "  print(f'GPA = {gpa:.2f}')\n",
        "\n",
        "printGrade(scores) "
      ],
      "execution_count": null,
      "outputs": []
    },
    {
      "cell_type": "code",
      "metadata": {
        "id": "cFrtJ7qTTEST"
      },
      "source": [
        "def readGrade(filename):\n",
        "  with open(filename) as f:\n",
        "    s = f.readlines()\n",
        "  scores = []\n",
        "  for i in s:\n",
        "    if i.strip() != '': # handle blank line\n",
        "      tmp = []\n",
        "      for j in i.strip().split(','):\n",
        "        tmp.append(j.upper())\n",
        "      scores.append(tmp)\n",
        "  return scores\n",
        "\n",
        "def printGrade(s):\n",
        "  g = {'A':4, 'B+':3.5, 'B':3, 'C+':2.5, 'C':2, 'D+':1.5, 'D':1, 'F':0}\n",
        "  totalCredit, mysum = 0, 0\n",
        "  for i in s:\n",
        "    subj, cred, grade = i[0], int(i[1]), g[i[2]]\n",
        "    totalCredit += cred\n",
        "    mysum += cred * grade\n",
        "    print(f'subject: {subj} credits: {cred} grade: {i[2]:<2} point: {grade:.1f}')\n",
        "  print(f'Total credits = {totalCredit}')\n",
        "  gpa = mysum / totalCredit\n",
        "  print(f'GPA = {gpa:.2f}')\n",
        "\n",
        "## Main begins here\n",
        "filename = input('Enter grade file: ')\n",
        "scores = readGrade(filename)\n",
        "printGrade(scores)\n",
        "print('Done.')"
      ],
      "execution_count": null,
      "outputs": []
    },
    {
      "cell_type": "markdown",
      "metadata": {
        "id": "MvtSA2dGaHjN"
      },
      "source": [
        "#### Additional Questions\n",
        "\n",
        "Suppose that the input grade file the leading student identifiers as the followings, write the code to answer these questions:\n",
        "\n",
        "1.   Report the transcript of each student (like previous demonstration)\n",
        "2.   Report the students' GPA decreasingly ranking"
      ]
    },
    {
      "cell_type": "code",
      "metadata": {
        "id": "509c6IgBaMqF"
      },
      "source": [
        "64000001,01175165,1,A\n",
        "64000001,01204111,3,B\n",
        " \n",
        "64000001,01355111,3,B+\n",
        "64000001,01355112,3,C\n",
        "64000001,01355113,3,D+\n",
        " \n",
        "64000001,01417167,3,F\n",
        "64000001,01420111,3,C+\n",
        "64000001,01420113,1,C\n",
        " \n",
        "64000001,01999021,3,D\n",
        "64000001,01999043,3,A\n",
        "64000001,01999111,2,A\n",
        "\n",
        "64000002,01175165,1,C+\n",
        "64000002,01204111,3,B+\n",
        "64000002,01355111,3,B\n",
        "64000002,01355112,3,C+\n",
        "64000002,01355113,3,D\n",
        "64000002,01417167,3,C\n",
        "64000002,01420111,3,C\n",
        "64000002,01420113,1,D\n",
        "64000002,01999021,3,D+\n",
        "64000002,01999043,3,B\n",
        "64000002,01999111,2,C+\n",
        "\n",
        "64000003,01175165,1,C\n",
        "64000003,01204111,3,B\n",
        "64000003,01355111,3,B+\n",
        "64000003,01355113,3,A\n",
        "64000003,01417167,3,B\n",
        "64000003,01420111,3,C+\n",
        "64000003,01420113,1,D+\n",
        "64000003,01999043,3,C\n",
        "64000003,01999111,2,C\n",
        "\n",
        "64000004,01175165,1,C\n",
        "64000004,01204111,3,D\n",
        "64000004,01355111,3,B+\n",
        "64000004,01355112,3,C\n",
        "64000004,01355113,3,D+\n",
        "64000004,01417167,3,B\n",
        "64000004,01420111,3,B+\n",
        "64000004,01420113,1,D\n",
        "64000004,01999021,3,D+\n",
        "\n",
        "64000005,01175165,1,A\n",
        "64000005,01204111,3,C\n",
        "64000005,01355111,3,B+\n",
        "64000005,01355112,3,C\n",
        "64000005,01355113,3,D+\n",
        "64000005,01417167,3,C+\n",
        "64000005,01420111,3,D\n",
        "64000005,01420113,1,B\n",
        "64000005,01999021,3,C+\n",
        "64000005,01999043,3,B+\n",
        "64000005,01999111,2,D+"
      ],
      "execution_count": null,
      "outputs": []
    },
    {
      "cell_type": "markdown",
      "metadata": {
        "id": "zFz1rJzFUVYA"
      },
      "source": [
        "### Pb02 [Oldest People]\n",
        "\n",
        "Write a Python program that reads a CSV file containing a list of people and their ages. The program then reports the name(s) of the oldest person(s) in the list.\n",
        "\n",
        "Notes: if there is more than one person with the same oldest age, the program must print out these names in the same order as listed in the input file.\n"
      ]
    },
    {
      "cell_type": "markdown",
      "metadata": {
        "id": "05VSMvrnUlJL"
      },
      "source": [
        "Examples\n",
        "\n",
        "Suppose the file age1.txt contains the following:\n",
        "```\n",
        "Somchai,58\n",
        "Somying,50\n",
        "Somsak,62\n",
        "```\n",
        "The output of the program when specifying age1.txt as input is:\n",
        "```\n",
        "Enter age file: age1.txt\n",
        "Oldest person(s) with the age of 62:\n",
        "- Somsak\n",
        "```\n",
        "In case there is more than one person with the oldest age, the program must report all those people's names. Suppose the file age2.txt contains the following:\n",
        "```\n",
        "Sophia,95\n",
        "Jackson,56\n",
        "Emma,95\n",
        "Aiden,42\n",
        "Olivia,68\n",
        "Lucas,75\n",
        "Ava,86\n",
        "Liam,92\n",
        "```\n",
        "The output of the program when specifying age2.txt as input is:\n",
        "```\n",
        "Enter age file: age2.txt\n",
        "Oldest person(s) with the age of 95:\n",
        "- Sophia\n",
        "- Emma\n",
        "```"
      ]
    },
    {
      "cell_type": "markdown",
      "metadata": {
        "id": "BOLvbXrJU7HK"
      },
      "source": [
        "#### Step by Step Solution to Pb02"
      ]
    },
    {
      "cell_type": "code",
      "metadata": {
        "id": "5TR91PGXU2za"
      },
      "source": [
        "#-----------------------------------------------------------------\n",
        "## run this code block to create age1.txt and age2.txt\n",
        "#-----------------------------------------------------------------\n",
        "s1 = '''\n",
        "Somchai,58\n",
        "Somying,50\n",
        "Somsak,62\n",
        "'''\n",
        "\n",
        "s2 = '''\n",
        "Sophia,95\n",
        "Jackson,56\n",
        "Emma,95\n",
        "Aiden,42\n",
        "Olivia,68\n",
        "Lucas,75\n",
        "Ava,86\n",
        "Liam,92\n",
        "'''\n",
        "\n",
        "with open('age1.txt', 'w') as f:\n",
        "  f.write(s1)\n",
        "\n",
        "with open('age2.txt', 'w') as f:\n",
        "  f.write(s2)\n",
        "\n",
        "print('Done.')"
      ],
      "execution_count": null,
      "outputs": []
    },
    {
      "cell_type": "code",
      "metadata": {
        "id": "_AxmQPWRVs4L"
      },
      "source": [
        "filename = 'age2.txt'\n",
        "with open(filename) as f:\n",
        "  s = f.readlines()\n",
        "  name, age = [], []\n",
        "  for i in s:\n",
        "    if i.strip() != '':\n",
        "      j = i.strip().split(',')\n",
        "      name.append(j[0])\n",
        "      age.append(int(j[1]))\n",
        "  print(name)\n",
        "  print(age)"
      ],
      "execution_count": null,
      "outputs": []
    },
    {
      "cell_type": "code",
      "metadata": {
        "id": "T2w44hzSWmJB"
      },
      "source": [
        "maxage = max(age)\n",
        "print(f'Oldest person(s) with age of {maxage}:')\n",
        "for i in range(len(age)):\n",
        "  if age[i]==maxage:\n",
        "    print(f'- {name[i]}')"
      ],
      "execution_count": null,
      "outputs": []
    },
    {
      "cell_type": "code",
      "metadata": {
        "id": "sqog-uppXPUv"
      },
      "source": [
        "def printMaxAge(filename):\n",
        "  with open(filename) as f:\n",
        "    s = f.readlines()\n",
        "    name, age = [], []\n",
        "    for i in s:\n",
        "      if i.strip() != '':\n",
        "        j = i.strip().split(',')\n",
        "        name.append(j[0])\n",
        "        age.append(int(j[1]))\n",
        "  maxage = max(age)\n",
        "  print(f'Oldest person(s) with age of {maxage}:')\n",
        "  for i in range(len(age)):\n",
        "    if age[i]==maxage:\n",
        "      print(f'- {name[i]}')\n",
        "\n",
        "## Main begins here\n",
        "filename = input('Enter age file: ')\n",
        "printMaxAge(filename)"
      ],
      "execution_count": null,
      "outputs": []
    },
    {
      "cell_type": "markdown",
      "metadata": {
        "id": "eQeHWvsIUXJ0"
      },
      "source": [
        "### Pb03 [Word Frequency]\n",
        "\n",
        "Write a Python program to analyse the following reading input text and print out the top three most occurrence words appearing in that text.\n"
      ]
    },
    {
      "cell_type": "code",
      "metadata": {
        "id": "mSuiFNB2YaHc"
      },
      "source": [
        "#-----------------------------------------------------------------\n",
        "## run this code block to create paragraph.txt\n",
        "#-----------------------------------------------------------------\n",
        "s = '''\n",
        "From Wikipedia, the (free) encyclopedia. \n",
        "\n",
        "A paragraph is a group of words put together to form a group that is\n",
        "usually longer than a sentence. Paragraphs are often made up of several\n",
        "sentences. There are usually between three and eight sentences. \n",
        "Paragraphs can begin with an indentation (about five spaces), or by\n",
        "missing a line out, and then starting again. This makes it easier to \n",
        "see when one paragraph ends and another begins.\n",
        "\n",
        "In most organized forms of writing, such as essays, paragraphs contain\n",
        "a topic sentence . This topic sentence of the paragraph tells the reader\n",
        "what the paragraph will be about. Essays usually have multiple paragraphs\n",
        "that make claims to support a thesis statement, which is the central \n",
        "idea of the essay.\n",
        "\n",
        "Paragraphs may signal when the writer changes topics. Each paragraph may\n",
        "have a number of sentences, depending on the topic.\n",
        "'''\n",
        "\n",
        "with open('paragraph.txt', 'w') as f:\n",
        "  f.write(s)\n",
        "\n",
        "print('Done.')"
      ],
      "execution_count": null,
      "outputs": []
    },
    {
      "cell_type": "markdown",
      "metadata": {
        "id": "KHE_Fnb0ZzP5"
      },
      "source": [
        "#### Step by Step Solution to Pb03"
      ]
    },
    {
      "cell_type": "code",
      "metadata": {
        "id": "NRCBhvRpZ4VU"
      },
      "source": [
        "filename = 'paragraph.txt'\n",
        "with open(filename) as f:\n",
        "  words1 = [w.lower() for w in f.read().split() if w != '']\n",
        "\n",
        "print(words1)\n",
        "\n",
        "words2 = []\n",
        "for w in words1:\n",
        "  tmp = ''\n",
        "  for c in w:\n",
        "    if c >= 'a' and c<='z':\n",
        "      tmp += c\n",
        "  words2.append(tmp)\n",
        "\n",
        "print(words2)"
      ],
      "execution_count": null,
      "outputs": []
    },
    {
      "cell_type": "code",
      "metadata": {
        "id": "h8F24TyMb_kB"
      },
      "source": [
        "def readTextFile(filename):\n",
        "  with open(filename) as f:\n",
        "    words1 = [w.lower() for w in f.read().split() if w != '']\n",
        "  words2 = []\n",
        "  for w in words1:\n",
        "    tmp = ''\n",
        "    for c in w:\n",
        "      if c >= 'a' and c<='z':\n",
        "        tmp += c\n",
        "    words2.append(tmp)\n",
        "  return words2\n",
        "\n",
        "words = readTextFile('paragraph.txt')\n",
        "wordFreq = {}\n",
        "for w in words:\n",
        "  #print(w)\n",
        "  if wordFreq.get(w, 0) == 0:\n",
        "    wordFreq[w] = 1\n",
        "    #print(w, wordFreq[w])\n",
        "  else:\n",
        "    wordFreq[w] += 1\n",
        "    #print(w, wordFreq[w])\n",
        "  #input()\n",
        "\n",
        "print(wordFreq)\n",
        "\n",
        "freq = []\n",
        "for w in wordFreq:\n",
        "  if wordFreq[w] not in freq:\n",
        "    freq.append(wordFreq[w])\n",
        "freq = sorted(freq, reverse=True)\n",
        "print(freq)"
      ],
      "execution_count": null,
      "outputs": []
    },
    {
      "cell_type": "code",
      "metadata": {
        "id": "VlL0mZblepUo"
      },
      "source": [
        "for i in range(3):\n",
        "  print(f'Frequency of occurences = {freq[i]}: ', end='')\n",
        "  for w in wordFreq:\n",
        "    if wordFreq[w] == freq[i]:\n",
        "      print(w, end=' ')\n",
        "  print()"
      ],
      "execution_count": null,
      "outputs": []
    },
    {
      "cell_type": "code",
      "metadata": {
        "id": "3Z0O2NFZgOkA"
      },
      "source": [
        "def readTextFile(filename):\n",
        "  with open(filename) as f:\n",
        "    words1 = [w.lower() for w in f.read().split() if w != '']\n",
        "  words2 = []\n",
        "  for w in words1:\n",
        "    tmp = ''\n",
        "    for c in w:\n",
        "      if c >= 'a' and c<='z':\n",
        "        tmp += c\n",
        "    words2.append(tmp)\n",
        "  return words2\n",
        "\n",
        "def countWordFreq(filename):\n",
        "  words = readTextFile(filename)\n",
        "  wordFreq = {}\n",
        "  for w in words:\n",
        "    if wordFreq.get(w, 0) == 0:\n",
        "      wordFreq[w] = 1\n",
        "    else:\n",
        "      wordFreq[w] += 1\n",
        "  #####\n",
        "  freq = []\n",
        "  for w in wordFreq:\n",
        "    if wordFreq[w] not in freq:\n",
        "      freq.append(wordFreq[w])\n",
        "  freq = sorted(freq, reverse=True)\n",
        "  ####\n",
        "  return wordFreq, freq\n",
        "\n",
        "def printTopK(wordFreq, freq, K):\n",
        "  if K > len(freq):\n",
        "    print(f'Only top-{len(freq)} is allow to print!')\n",
        "    return\n",
        "  for i in range(K):\n",
        "    print(f'Frequency of occurences = {freq[i]}: ', end='')\n",
        "    for w in wordFreq:\n",
        "      if wordFreq[w] == freq[i]:\n",
        "        print(w, end=' ')\n",
        "    print()\n",
        "\n",
        "### Main begins here\n",
        "filename = 'paragraph.txt'\n",
        "wordFreq, freq = countWordFreq(filename)\n",
        "printTopK(wordFreq, freq, 4)\n"
      ],
      "execution_count": null,
      "outputs": []
    },
    {
      "cell_type": "markdown",
      "metadata": {
        "id": "DZj35kR5jwbo"
      },
      "source": [
        "### Pb04 [Python's Keywords]\n",
        "\n",
        "Read a Python program and count the number of the appearing [keywords](https://realpython.com/python-keywords/) which are not within string delimiter!\n",
        "\n"
      ]
    },
    {
      "cell_type": "code",
      "metadata": {
        "id": "piffS4YFknsw"
      },
      "source": [
        "#-----------------------------------------------------------------\n",
        "## run this code block to create python1.txt\n",
        "#-----------------------------------------------------------------\n",
        "s = '''\n",
        "for i in range(3): \n",
        "  print('hello, if you see me, no count here')\n",
        "  j = 0\n",
        "  while j < i:\n",
        "    if j in [1,2,3]:\n",
        "      print(\"Where am I while you comes!\")\n",
        "    j += 1 \n",
        "'''\n",
        "\n",
        "with open('python1.txt', 'w') as f:\n",
        "  f.write(s)\n",
        "\n",
        "pyKeywords = ['False', 'await', 'else', 'import', 'pass', 'None',\t'break']\n",
        "pyKeywords += ['except', 'in', 'raise', 'True', 'class', 'finally', 'is']\n",
        "pyKeywords += ['return', 'and', 'continue', 'for', 'lambda', 'try', 'as']\n",
        "pyKeywords += ['def', 'from', 'nonlocal', 'while', 'assert', 'del', 'global']\n",
        "pyKeywords += ['not', 'with', 'async', 'elif', 'if', 'or', 'yield']\n",
        "print(len(pyKeywords), pyKeywords)\n",
        "\n",
        "print('Done.')"
      ],
      "execution_count": null,
      "outputs": []
    },
    {
      "cell_type": "markdown",
      "metadata": {
        "id": "vK6pyS-ansXq"
      },
      "source": [
        "#### Step by Step Solution"
      ]
    },
    {
      "cell_type": "code",
      "metadata": {
        "id": "q0TxkBjWnvXH"
      },
      "source": [
        "filename = 'python1.txt'\n",
        "\n",
        "with open(filename) as f:\n",
        "  s = f.read() # read the whole file to s\n",
        "\n",
        "print(s)\n",
        "\n",
        "words = []\n",
        "tmp = ''\n",
        "for i in range(len(s)):\n",
        "  if (s[i] >= 'a' and s[i] <= 'z') or (s[i] >= 'A' and s[i] <= 'Z'):\n",
        "    tmp += s[i]\n",
        "  else:\n",
        "    if len(tmp) > 0:\n",
        "      words.append(tmp)\n",
        "      tmp = ''\n",
        "\n",
        "print(words)"
      ],
      "execution_count": null,
      "outputs": []
    },
    {
      "cell_type": "code",
      "metadata": {
        "id": "KlQLJqQDrgRW"
      },
      "source": [
        "filename = 'python1.txt'\n",
        "\n",
        "with open(filename) as f:\n",
        "  s = f.read() # read the whole file to s\n",
        "\n",
        "words = []\n",
        "tmp = ''\n",
        "strDelimit = ['\\\"', '\\'']\n",
        "i = 0\n",
        "\n",
        "while i < len(s):\n",
        "  # within string delimit check?\n",
        "  if s[i] in strDelimit:\n",
        "    strD = s[i]\n",
        "    #print(f'open{i}')\n",
        "    i += 1\n",
        "    while i < len(s):\n",
        "      if s[i] != strD:\n",
        "        i += 1\n",
        "        continue\n",
        "      else:\n",
        "        #print(f'close{i}')\n",
        "        break\n",
        "    i += 1\n",
        "    continue\n",
        "  # out of string delimit\n",
        "  if (s[i] >= 'a' and s[i] <= 'z') or (s[i] >= 'A' and s[i] <= 'Z'):\n",
        "    tmp += s[i]\n",
        "  else:\n",
        "    if len(tmp) > 0:\n",
        "      words.append(tmp)\n",
        "      tmp = ''\n",
        "  i += 1\n",
        "\n",
        "print(words)"
      ],
      "execution_count": null,
      "outputs": []
    },
    {
      "cell_type": "code",
      "metadata": {
        "id": "u4YMfjn4vXoR"
      },
      "source": [
        "def pythonParse(filename):\n",
        "  with open(filename) as f:\n",
        "    s = f.read() # read the whole file to s\n",
        "  ##\n",
        "  words = []\n",
        "  tmp = ''\n",
        "  strDelimit = ['\\\"', '\\'']\n",
        "  i = 0\n",
        "  while i < len(s):\n",
        "    # within string delimit\n",
        "    if s[i] in strDelimit:\n",
        "      strD = s[i]\n",
        "      #print(f'open{i}')\n",
        "      i += 1\n",
        "      while i < len(s):\n",
        "        if s[i] != strD:\n",
        "          i += 1\n",
        "          continue\n",
        "        else:\n",
        "          #print(f'close{i}')\n",
        "          break\n",
        "      i += 1\n",
        "      continue\n",
        "    # out of string delimit\n",
        "    if (s[i] >= 'a' and s[i] <= 'z') or (s[i] >= 'A' and s[i] <= 'Z'):\n",
        "      tmp += s[i]\n",
        "    else:\n",
        "      if len(tmp) > 0:\n",
        "        words.append(tmp)\n",
        "        tmp = ''\n",
        "    i += 1\n",
        "  return words\n",
        "\n",
        "## Main begins here\n",
        "filename = 'python1.txt'\n",
        "words = pythonParse(filename)\n",
        "print(words)\n",
        "\n",
        "kw = {}\n",
        "for i in words:\n",
        "  if i not in kw.keys() and i in pyKeywords:\n",
        "    kw[i] = 1\n",
        "  elif i in kw.keys():\n",
        "    kw[i] += 1\n",
        "print(kw) "
      ],
      "execution_count": null,
      "outputs": []
    },
    {
      "cell_type": "markdown",
      "metadata": {
        "id": "lpexZtV9xQ5F"
      },
      "source": [
        "When we change in input file to more harder python2.txt"
      ]
    },
    {
      "cell_type": "code",
      "metadata": {
        "id": "Jiygb91ixYGX"
      },
      "source": [
        "#-----------------------------------------------------------------\n",
        "## run this code block to create python2.txt\n",
        "#-----------------------------------------------------------------\n",
        "s = '''\n",
        "filename = 'python1.txt'\n",
        "\n",
        "with open(filename) as f: # with 'with'\n",
        "  s = f.read() # read the whole file to s\n",
        "\n",
        "print(s)\n",
        "\n",
        "words = []\n",
        "tmp = ''\n",
        "for i in range(len(s)):\n",
        "  if (s[i] >= 'a' and s[i] <= 'z') or (s[i] >= 'A' and s[i] <= 'Z'):\n",
        "    tmp += s[i]\n",
        "  else:\n",
        "    if len(tmp) > 0:\n",
        "      words.append(tmp)\n",
        "      tmp = ''\n",
        "\n",
        "print(words)\n",
        "'''\n",
        "\n",
        "with open('python2.txt', 'w') as f:\n",
        "  f.write(s)\n",
        "\n",
        "pyKeywords = ['False', 'await', 'else', 'import', 'pass', 'None',\t'break']\n",
        "pyKeywords += ['except', 'in', 'raise', 'True', 'class', 'finally', 'is']\n",
        "pyKeywords += ['return', 'and', 'continue', 'for', 'lambda', 'try', 'as']\n",
        "pyKeywords += ['def', 'from', 'nonlocal', 'while', 'assert', 'del', 'global']\n",
        "pyKeywords += ['not', 'with', 'async', 'elif', 'if', 'or', 'yield']\n",
        "print(len(pyKeywords), pyKeywords)\n",
        "\n",
        "print('Done.')"
      ],
      "execution_count": null,
      "outputs": []
    },
    {
      "cell_type": "code",
      "metadata": {
        "id": "it5TLVkul5a_"
      },
      "source": [
        "## Main begins here\n",
        "filename = 'python2.txt'\n",
        "words = pythonParse(filename)\n",
        "print(words)\n",
        "\n",
        "kw = {}\n",
        "for i in words:\n",
        "  if i not in kw.keys() and i in pyKeywords:\n",
        "    kw[i] = 1\n",
        "  elif i in kw.keys():\n",
        "    kw[i] += 1\n",
        "print(kw) \n",
        "print('Note that we have not handled the # comment sign yet!')"
      ],
      "execution_count": null,
      "outputs": []
    },
    {
      "cell_type": "markdown",
      "metadata": {
        "id": "cfwBLuae9I7H"
      },
      "source": [
        "### Pb05 [ตรวจคำตอบ]\n",
        "\n",
        "ให้เขียนโปรแกรมอ่านแฟ้มคำตอบแบบปรนัยของนิสิต มาตรวจให้คะแนน\n",
        "\n"
      ]
    },
    {
      "cell_type": "markdown",
      "metadata": {
        "id": "tgNVh110Fn4I"
      },
      "source": [
        "ข้อมูลนำเข้า ข้อมูลจากแฟ้ม answers.txt โดยมีรูปแบบดังนี้\n",
        "* บรรทัดแรกเก็บเฉลย เป็นสตริงของตัวอักษรคำตอบ A, B, C หรือ D เรียงตามข้อ\n",
        "* บรรทัดต่อมาจนหมดแฟ้ม แต่ละบรรทัด เก็บเลขประจำตัวนิสิต ตามด้วยช่องว่างหนึ่งช่อง ตามด้วยคำตอบปรนัยซึ่งเป้นสตริงของ A, B, C และ D หรือเป็นช่องว่าง (กรณีไม่ตอบข้อนั้น) หรือเป็นตัวอักษรอื่น (กรณีที่ตอบมามากกว่าหนึ่งคำตอบ) เรียงตามข้อ \n",
        "\n",
        "ข้อมูลส่งออก แสดงผลการตรวจคะแนน แต่ละบรรทัดประกอบด้วยตัวเลขประจำตัวนิสิต ตามด้วยคะแนนที่ได้ คั่นด้วยเครื่องหมายจุลภาค (comma)\n",
        "\n",
        "ตัวอย่างอินพุทที่อ่านได้จากแฟ้ม answers.txt\n",
        "```\n",
        "AABBCCCBBCCDDDABABDDCCDDCC\n",
        "6300000001 AABBCCCBBCCDDDABABDDCCDDCA\n",
        "6300000002 A BBCD BDBAAABA ABDBCCCDCC\n",
        "6300000003 ABABCCNNAADDDABAB CCDDAC\n",
        "6300000004 AABBCCCBBCCDDDABABDDCCDD\n",
        "```\n",
        "\n",
        "ตัวอย่างเอาท์พุทของโปรแกรม\n",
        "```\n",
        "6300000001,25\n",
        "6300000002,14\n",
        "6300000003,6\n",
        "6300000004,24\n",
        "```\n"
      ]
    },
    {
      "cell_type": "markdown",
      "metadata": {
        "id": "def95mkkFzHF"
      },
      "source": [
        "#### Proposed Solution"
      ]
    },
    {
      "cell_type": "code",
      "metadata": {
        "id": "SHhAOssI_lIS"
      },
      "source": [
        "#-----------------------------------------------------------------\n",
        "## run this code block to create answers.txt \n",
        "#-----------------------------------------------------------------\n",
        "s = '''AABBCCCBBCCDDDABABDDCCDDCC\n",
        "6300000001 AABBCCCBBCCDDDABABDDCCDDCA\n",
        "6300000002 A BBCD BDBAAABA ABDBCCCDCC\n",
        "6300000003 ABABCCNNAADDDABAB CCDDAC\n",
        "6300000004 AABBCCCBBCCDDDABABDDCCDD'''\n",
        "\n",
        "filename = 'answers.txt'\n",
        "with open(filename, 'w') as f:\n",
        "  f.write(s)\n",
        "\n",
        "with open(filename) as f:\n",
        "  s = f.readlines()\n",
        "  print(s)\n",
        "\n",
        "print('Done.')"
      ],
      "execution_count": null,
      "outputs": []
    },
    {
      "cell_type": "code",
      "metadata": {
        "id": "cDtm1plKApn1"
      },
      "source": [
        "filename = 'answers.txt'\n",
        "with open(filename) as f:\n",
        "  s = f.readlines()\n",
        "  sol = s[0].strip()\n",
        "  std, ans = [], []\n",
        "  for j in range(1, len(s)):\n",
        "    firstSp = s[j].strip().index(' ')\n",
        "    std.append(s[j].strip()[:firstSp])\n",
        "    ans.append(s[j].strip()[firstSp+1:])\n",
        "\n",
        "print(sol)\n",
        "print(std)\n",
        "print(ans)"
      ],
      "execution_count": null,
      "outputs": []
    },
    {
      "cell_type": "code",
      "metadata": {
        "id": "R5yZO1tvD3L8"
      },
      "source": [
        "def readAnswers(filename):\n",
        "  with open(filename) as f:\n",
        "    s = f.readlines()\n",
        "    sol = s[0].strip()\n",
        "    std, ans = [], []\n",
        "    for j in range(1, len(s)):\n",
        "      firstSp = s[j].strip().index(' ')\n",
        "      std.append(s[j].strip()[:firstSp])\n",
        "      ans.append(s[j].strip()[firstSp+1:])\n",
        "  return sol, std, ans\n",
        "\n",
        "filename = 'answers.txt'\n",
        "sol, std, ans = readAnswers(filename)\n",
        "\n",
        "print(len(sol))\n",
        "for i in ans:\n",
        "  print(i, len(i))\n",
        "\n",
        "res = []\n",
        "for k in range(len(ans)):\n",
        "  score = 0\n",
        "  for i in range(len(ans[k])):\n",
        "    if ans[k][i] == sol[i]:\n",
        "      score += 1\n",
        "  #print(score)\n",
        "  res.append(score)\n",
        "print(res)\n"
      ],
      "execution_count": null,
      "outputs": []
    },
    {
      "cell_type": "code",
      "metadata": {
        "id": "OHF68u3_G6cP"
      },
      "source": [
        "def readAnswers(filename):\n",
        "  with open(filename) as f:\n",
        "    s = f.readlines()\n",
        "    sol = s[0].strip()\n",
        "    std, ans = [], []\n",
        "    for j in range(1, len(s)):\n",
        "      firstSp = s[j].strip().index(' ')\n",
        "      std.append(s[j].strip()[:firstSp])\n",
        "      ans.append(s[j].strip()[firstSp+1:])\n",
        "  return sol, std, ans\n",
        "\n",
        "def CheckAns(sol, ans):\n",
        "  res = []\n",
        "  for k in range(len(ans)):\n",
        "    score = 0\n",
        "    for i in range(len(ans[k])):\n",
        "      if ans[k][i] == sol[i]:\n",
        "        score += 1\n",
        "    #print(score)\n",
        "    res.append(score)\n",
        "  return res\n",
        "\n",
        "### Main begins here\n",
        "filename = 'answers.txt'\n",
        "sol, std, ans = readAnswers(filename)\n",
        "res = CheckAns(sol, ans)\n",
        "for i in range(len(res)):\n",
        "  print(f'{std[i]},{res[i]}')"
      ],
      "execution_count": null,
      "outputs": []
    },
    {
      "cell_type": "markdown",
      "metadata": {
        "id": "8SvOwqv9Fgwt"
      },
      "source": [
        "### Pb06 City Temperature and EU Country Coastline "
      ]
    },
    {
      "cell_type": "markdown",
      "metadata": {
        "id": "jRQN_Y0GGLzs"
      },
      "source": [
        "#### <font color=\"blue\">**Task 0:**</font> เชื่อมต่อกับกูลเกิลไดรฟ"
      ]
    },
    {
      "cell_type": "code",
      "metadata": {
        "id": "bJBst5W0GXbL"
      },
      "source": [
        "# Load the Drive helper and mount\n",
        "from google.colab import drive\n",
        "\n",
        "# This will prompt for authorization.\n",
        "drive.mount('/content/drive')"
      ],
      "execution_count": null,
      "outputs": []
    },
    {
      "cell_type": "code",
      "metadata": {
        "id": "jY0-W8v-Gmq6"
      },
      "source": [
        "# After executing the cell above, Drive\n",
        "# files will be present in \"/content/drive/My Drive/\".\n",
        "!ls '/content/drive/My Drive/111csv_data'"
      ],
      "execution_count": null,
      "outputs": []
    },
    {
      "cell_type": "code",
      "metadata": {
        "id": "X0pUFoAVG2tE"
      },
      "source": [
        "# Now, define your path of the input files\n",
        "data_path = '/content/drive/My Drive/111csv_data/'"
      ],
      "execution_count": 129,
      "outputs": []
    },
    {
      "cell_type": "markdown",
      "metadata": {
        "id": "HanWaxH5HI86"
      },
      "source": [
        "#### <font color=\"blue\">**Task 1:**</font> เปิดพิจารณาไฟล์ `Cities.csv`"
      ]
    },
    {
      "cell_type": "code",
      "metadata": {
        "id": "nicyorWuHRS6"
      },
      "source": [
        "with open(data_path + 'Cities.csv') as fp:\n",
        "  header = fp.readline()\n",
        "  print(header)\n",
        "  s = []\n",
        "  for line in fp:\n",
        "    s.append(line.strip().split(','))\n",
        "print(s)"
      ],
      "execution_count": null,
      "outputs": []
    },
    {
      "cell_type": "markdown",
      "metadata": {
        "id": "Q8_o6C28Jzfl"
      },
      "source": [
        "#### <font color=\"blue\">**Task 2:**</font> Show all records of city and country from the `Cities.csv` file."
      ]
    },
    {
      "cell_type": "code",
      "metadata": {
        "id": "Sdv7kS6SJ20V"
      },
      "source": [
        "# your turn\n",
        "for c in s:\n",
        "  print(c[0], c[1])"
      ],
      "execution_count": null,
      "outputs": []
    },
    {
      "cell_type": "markdown",
      "metadata": {
        "id": "jrSPurD8IRAx"
      },
      "source": [
        "#### <font color=\"blue\">**Task 3:**</font> Show all cities with longitude less than 0 from the `Cities.csv` file."
      ]
    },
    {
      "cell_type": "markdown",
      "metadata": {
        "id": "9hNPqbwq2R-6"
      },
      "source": [
        "Output:\n",
        "```\n",
        "Aberdeen -2.08\n",
        "Albacete -1.87\n",
        "Algeciras -5.47\n",
        "Angers -0.53\n",
        "Badajoz -6.97\n",
        "...\n",
        "Salamanca -5.67\n",
        "Santander -3.80\n",
        "Swansea -3.95\n",
        "Valencia -0.40\n",
        "Vigo -8.73\n",
        "Zaragoza -0.89\n",
        "```"
      ]
    },
    {
      "cell_type": "code",
      "metadata": {
        "id": "AXzh-neUIcMI"
      },
      "source": [
        "# your turn\n"
      ],
      "execution_count": null,
      "outputs": []
    },
    {
      "cell_type": "markdown",
      "metadata": {
        "id": "javh59laLlR7"
      },
      "source": [
        "#### <font color=\"blue\">**Task 4:**</font> (8 minutes)"
      ]
    },
    {
      "cell_type": "markdown",
      "metadata": {
        "id": "L-g3DJWr1CTK"
      },
      "source": [
        "Output:\n",
        "```\n",
        "Albania 2.9\n",
        "Bosnia and Herzegovina 3.8\n",
        "Iceland 0.33\n",
        "Montenegro 0.63\n",
        "Norway 5.27\n",
        "Turkey 79.62\n",
        "Ukraine 44.62\n",
        "```"
      ]
    },
    {
      "cell_type": "code",
      "metadata": {
        "id": "ImIG7X4TMF7h"
      },
      "source": [
        "# Using Countries.csv and reading in dictionary format, find\n",
        "# all countries that have coastline and are not in the EU.\n",
        "# Print the list of countries and their population.\n",
        "# Note: for the \"and\" of two conditions C1 and C2, use \"C1 and C2\"\n",
        "# Hint: The copy-paste-modify approach to programming is highly recommended!"
      ],
      "execution_count": 145,
      "outputs": []
    },
    {
      "cell_type": "code",
      "metadata": {
        "id": "XRT6kVBxL_IR"
      },
      "source": [
        "# your turn"
      ],
      "execution_count": null,
      "outputs": []
    },
    {
      "cell_type": "markdown",
      "metadata": {
        "id": "02PNMcoQQsjR"
      },
      "source": [
        "#### <font color=\"blue\">**Task 5:**</font> Use the `Cities.csv` and `Countries.csv` files to show cities with whether they are in or not in EU."
      ]
    },
    {
      "cell_type": "markdown",
      "metadata": {
        "id": "Mhd5nTOo2vRy"
      },
      "source": [
        "Output:\n",
        "```\n",
        "Aalborg yes\n",
        "Aberdeen yes\n",
        "Abisko yes\n",
        "Adana no\n",
        "Albacete yes\n",
        "...\n",
        "Yevpatoriya no\n",
        "Zaragoza yes\n",
        "Zhytomyr no\n",
        "Zonguldak no\n",
        "Zurich no\n",
        "```"
      ]
    },
    {
      "cell_type": "code",
      "metadata": {
        "id": "SDxN5QDPQteQ"
      },
      "source": [
        "# your turn"
      ],
      "execution_count": 165,
      "outputs": []
    },
    {
      "cell_type": "markdown",
      "metadata": {
        "id": "NNNFXnBpnhC_"
      },
      "source": [
        "#### <font color=\"blue\">**Task 6:**</font> Use the data from the `Cities.csv` file and find overall minimum and maximum city temperatures."
      ]
    },
    {
      "cell_type": "markdown",
      "metadata": {
        "id": "uVnzUvLy3KiD"
      },
      "source": [
        "Output:\n",
        "```\n",
        "Minimum: -2.2\n",
        "Maximum: 18.67\n",
        "```"
      ]
    },
    {
      "cell_type": "code",
      "metadata": {
        "id": "mCikb0wNnpAc"
      },
      "source": [
        "# your turn"
      ],
      "execution_count": 151,
      "outputs": []
    },
    {
      "cell_type": "markdown",
      "metadata": {
        "id": "sMhAce6Anr0t"
      },
      "source": [
        "#### <font color=\"blue\">**Task 7:**</font> Use the data from the `Cities.csv` file to compute average temperature of overall cities.\n",
        "\n",
        "*Note:* To find the average of a list by simply using the `sum()` and `len()` functions."
      ]
    },
    {
      "cell_type": "markdown",
      "metadata": {
        "id": "oH3RD4ul45m2"
      },
      "source": [
        "Output:\n",
        "```\n",
        "Overall temperature is 9.4978\n",
        "```"
      ]
    },
    {
      "cell_type": "code",
      "metadata": {
        "id": "94MhWCkHn4bN"
      },
      "source": [
        "# your turn"
      ],
      "execution_count": 166,
      "outputs": []
    },
    {
      "cell_type": "markdown",
      "metadata": {
        "id": "CoMM1hfgn6od"
      },
      "source": [
        "#### <font color=\"blue\">**Task 8:**</font> Use the data from the `Cities.csv` file to compute average city temperature for each country.\n",
        "*Hint:* The idea is that we may store data in a `dict` structure for further compute.\n",
        "```\n",
        "temps = {'country1': temp1, 'country2': temp2, ...}\n",
        "print(temps['country1'])\n",
        "```"
      ]
    },
    {
      "cell_type": "markdown",
      "metadata": {
        "id": "HUdgwomx3SBK"
      },
      "source": [
        "Output:\n",
        "```\n",
        "Denmark 7.62\n",
        "United Kingdom 8.65\n",
        "Sweden 3.59\n",
        "Turkey 11.73\n",
        "Spain 14.24\n",
        "...\n",
        "Montenegro 9.99\n",
        "Croatia 10.87\n",
        "Bosnia and Herzegovina 9.60\n",
        "Macedonia 9.36\n",
        "Estonia 4.59\n",
        "```"
      ]
    },
    {
      "cell_type": "code",
      "metadata": {
        "id": "97jOGMJkoD69"
      },
      "source": [
        "# your turn"
      ],
      "execution_count": 112,
      "outputs": []
    },
    {
      "cell_type": "markdown",
      "metadata": {
        "id": "7436miEmoFq0"
      },
      "source": [
        "#### <font color=\"blue\">**Task 9:**</font> (10 minutes)"
      ]
    },
    {
      "cell_type": "code",
      "metadata": {
        "id": "QWuEe7XaoNTk"
      },
      "source": [
        "# Compute the average longitude and average latitude of all\n",
        "# cities that are in an EU country. Print the two values.\n",
        "# First four lines are included as a hint:\n",
        "lats = [] # list of latitudes of cities in an EU country\n",
        "longs = [] # list of longitudes of cities in an EU country\n",
        "cities = []\n",
        "countries = []\n",
        "# your code here"
      ],
      "execution_count": 167,
      "outputs": []
    },
    {
      "cell_type": "markdown",
      "metadata": {
        "id": "23Tv3ELaoe7m"
      },
      "source": [
        "Output:\n",
        "```\n",
        "Average latitude: 48.19646666666664\n",
        "Average longitude: 10.359733333333333\n",
        "```"
      ]
    },
    {
      "cell_type": "code",
      "metadata": {
        "id": "anT-9F4cofuT"
      },
      "source": [
        ""
      ],
      "execution_count": 167,
      "outputs": []
    },
    {
      "cell_type": "markdown",
      "metadata": {
        "id": "6mH8g9jVoujb"
      },
      "source": [
        "#### <font color=\"blue\">**Task 10:**</font> (10 minutes)"
      ]
    },
    {
      "cell_type": "code",
      "metadata": {
        "id": "UdMZe96DowgL"
      },
      "source": [
        "# Determine which country has the lowest average city temperature\n",
        "# and which country has the highest average city temperature.\n",
        "# Print the two countries.\n",
        "# Hint: Start with code above that computes average temperatures\n",
        "# for each country, then adapt the second min/max method.\n",
        "# Suggestion: Get lowest working then add highest"
      ],
      "execution_count": 169,
      "outputs": []
    },
    {
      "cell_type": "markdown",
      "metadata": {
        "id": "A66s3I0foyHD"
      },
      "source": [
        "Output:\n",
        "```\n",
        "The lowest average city temperature: Finland\n",
        "The highest average city temperature: Greece\n",
        "```"
      ]
    },
    {
      "cell_type": "code",
      "metadata": {
        "id": "V4DLOq9p5T1k"
      },
      "source": [
        "# your turn"
      ],
      "execution_count": null,
      "outputs": []
    },
    {
      "cell_type": "markdown",
      "metadata": {
        "id": "qdfxOJAMo1kL"
      },
      "source": [
        "\n",
        "\n",
        "---\n",
        "\n"
      ]
    }
  ]
}