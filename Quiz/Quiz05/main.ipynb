{
 "cells": [
  {
   "cell_type": "code",
   "execution_count": null,
   "source": [],
   "outputs": [],
   "metadata": {}
  },
  {
   "cell_type": "code",
   "execution_count": 22,
   "source": [
    "import json\n",
    "\n",
    "def readFile(fileName:str):\n",
    "    return json.loads(open(fileName).read())\n",
    "\n",
    "datas = readFile(input('Filename : '))"
   ],
   "outputs": [],
   "metadata": {}
  },
  {
   "cell_type": "code",
   "execution_count": null,
   "source": [],
   "outputs": [],
   "metadata": {}
  },
  {
   "cell_type": "code",
   "execution_count": 45,
   "source": [
    "menu = int(input('Menu : '))\n",
    "if menu == 1:\n",
    "    print(len(datas))\n",
    "elif menu == 2:\n",
    "    x = int(input('From : '))\n",
    "    y = int(input('To : '))\n",
    "    startWithChar = input('Start with Char : ')\n",
    "\n",
    "    for index,data in enumerate(datas[x:y+1]):\n",
    "        if data['title'][0].upper() == startWithChar:\n",
    "            print(f\"{index} : {data['title']}\")\n",
    "elif menu == 3:\n",
    "    x = int(input('From : '))\n",
    "    y = int(input('To : '))\n",
    "    animeType = input('Type : ')\n",
    "    dataScope = datas[x:y+1]\n",
    "    mostScore = max(dataScope,key=lambda data:data['mal_score'])\n",
    "    mostFav = max(dataScope,key=lambda data:data['mal_favorites'])\n",
    "    n = len(list(filter(lambda r:r['type'] == animeType,dataScope)))\n",
    "    print(f'{animeType} : {n}')\n",
    "    print(f'Most scores : {mostScore[\"title\"]}')\n",
    "    print(f'Most favorites : {mostFav[\"title\"]}')\n",
    "\n",
    "elif menu == 4:\n",
    "    x = int(input('From : '))\n",
    "    y = int(input('To : '))\n",
    "    source = input('Source : ')\n",
    "    status = input('Status : ')\n",
    "    mulScore = int(input('Mul score : '))\n",
    "    for index,data in enumerate(datas[x:y+1]):\n",
    "        if data['source'] == source and data['status'] == status and data['mal_score'] >= mulScore:\n",
    "            print(f\"{index} : {data['title']}\")\n",
    "\n",
    "elif menu == 5:\n",
    "    x = int(input('From : '))\n",
    "    y = int(input('To : '))\n",
    "    season = input('Season : ')\n",
    "    def check(r):\n",
    "        try:\n",
    "            return r['premiered'].split()[0] == season\n",
    "        except:\n",
    "            return False\n",
    "    n = len(list(filter(check,datas[x:y+1])))\n",
    "    print(f'{season} : {n}')\n",
    "\n",
    "elif menu == 6:\n",
    "    x = int(input('From : '))\n",
    "    y = int(input('To : '))\n",
    "    def check(r):\n",
    "        try:\n",
    "            return r['aired_start'][0:4] == r['aired_end'][0:4]\n",
    "        except:\n",
    "            return False\n",
    "    n = len(list(filter(check,datas[x:y+1])))\n",
    "    print(f'Find : {n}')\n",
    "\n",
    "elif menu == 7:\n",
    "    title = input('Title : ')\n",
    "    for data in datas:\n",
    "        if data['title'] == title:\n",
    "            print(data['mal_rating'])\n",
    "            break\n",
    "\n",
    "elif menu == 8:\n",
    "    x = int(input('From : '))\n",
    "    y = int(input('To : '))\n",
    "    scope = datas[x:y+1]\n",
    "    maxS = max(scope,key=lambda data:len(data['synopsis'].split()))\n",
    "    lenMaxS = len(maxS['synopsis'].split())\n",
    "    for index,data in enumerate(datas):\n",
    "        if not (x <= index <= y):\n",
    "            continue\n",
    "\n",
    "        if len(data['synopsis'].split()) == lenMaxS:\n",
    "            print(f'{index} : {data[\"title\"]}')\n",
    "\n"
   ],
   "outputs": [
    {
     "output_type": "stream",
     "name": "stdout",
     "text": [
      "9 : Monster\n"
     ]
    }
   ],
   "metadata": {}
  },
  {
   "cell_type": "code",
   "execution_count": 25,
   "source": [
    "not (12 < 14 < 14)"
   ],
   "outputs": [
    {
     "output_type": "execute_result",
     "data": {
      "text/plain": [
       "True"
      ]
     },
     "metadata": {},
     "execution_count": 25
    }
   ],
   "metadata": {}
  }
 ],
 "metadata": {
  "orig_nbformat": 4,
  "language_info": {
   "name": "python",
   "version": "3.6.13",
   "mimetype": "text/x-python",
   "codemirror_mode": {
    "name": "ipython",
    "version": 3
   },
   "pygments_lexer": "ipython3",
   "nbconvert_exporter": "python",
   "file_extension": ".py"
  },
  "kernelspec": {
   "name": "python3",
   "display_name": "Python 3.6.13 64-bit ('cpe35': conda)"
  },
  "interpreter": {
   "hash": "79ad47b933004d578ba4ec19af1d96ce124544fb0f46a88e12a7eff0983b6609"
  }
 },
 "nbformat": 4,
 "nbformat_minor": 2
}