{
 "cells": [
  {
   "cell_type": "code",
   "execution_count": 49,
   "source": [
    "class City:\n",
    "  nbCity = 0\n",
    "  def __init__(s,city,country,lat,long,temp):\n",
    "    s.city = city; s.country = country; s.lat = lat\n",
    "    s.long = long; s.temp = temp; City.nbCity += 1\n",
    "class Country:\n",
    "  nbCountry = 0\n",
    "  def __init__(self,country,population,EU,coastline):\n",
    "    self.country = country\n",
    "    self.population = population\n",
    "    self.EU = True if EU == 'yes' else False\n",
    "    self.coastline = True if coastline == 'yes' else False\n",
    "\n",
    "def readCity():\n",
    "  myCity = []\n",
    "  with open('Cities.csv') as fp:\n",
    "    c = fp.readline()\n",
    "    for c in fp:\n",
    "      cc = c.strip().split(',')\n",
    "      city,country,lat,long,temp = cc[0],cc[1],float(cc[2]),float(cc[3]),float(cc[4])\n",
    "      myCity.append(City(city,country,lat,long,temp))\n",
    "  return myCity\n",
    "\n",
    "def test_readCity(myCity):\n",
    "  for c in myCity:\n",
    "    print(c.city,c.country,c.lat,c.long,c.temp)\n",
    "\n",
    "def readCountry():\n",
    "  myCountry = []\n",
    "  with open('Countries.csv') as fp:\n",
    "    c = fp.readline()\n",
    "    for c in fp:\n",
    "      cc = c.strip().split(',')\n",
    "      country,population,EU,coastline = cc[0],cc[1],cc[2],cc[3]\n",
    "      myCountry.append(Country(country,population,EU,coastline))\n",
    "  return myCountry\n",
    "\n",
    "def q01(myCity:list, myCountry:list):\n",
    "  _countrys = [country.country for country in myCountry if country.EU and not country.coastline]\n",
    "  eu_cities = [c for c in myCity if c.country in _countrys]\n",
    "  country = {}\n",
    "  for city in eu_cities:\n",
    "      try:\n",
    "          country[city.country].append(city.temp)\n",
    "      except KeyError:\n",
    "          country.update({city.country:[city.temp]})\n",
    "  \n",
    "  for country,temps in country.items():\n",
    "      print(country,f'{sum(temps) / len(temps):.2f}')\n",
    "\n",
    "\n",
    "def q02(myCity, myCountry):\n",
    "  _countrys = [country.country for country in myCountry if not country.EU]\n",
    "  # print(_countrys)\n",
    "  country = {}\n",
    "  for city in [c for c in myCity if c.country in _countrys]:\n",
    "      try:\n",
    "          country[city.country].append(city.temp)\n",
    "      except KeyError:\n",
    "          country.update({city.country:[city.temp]})\n",
    "  \n",
    "  avgCountry = {}\n",
    "  for country,temps in country.items():\n",
    "        avgCountry.update({country:sum(temps) / len(temps)})\n",
    "\n",
    "  minCountry = min(avgCountry,key=lambda country:avgCountry[country])\n",
    "  maxCountry = max(avgCountry,key=lambda country:avgCountry[country])\n",
    "\n",
    "  print(f'The highest average city temperature: {maxCountry} ({avgCountry[maxCountry]:.2f})')\n",
    "  print(f'The lowest average city temperature: {minCountry} ({avgCountry[minCountry]:.2f})')\n",
    "\n",
    "\n",
    "### main begins here\n",
    "myCity = readCity()\n",
    "myCountry = readCountry()"
   ],
   "outputs": [],
   "metadata": {}
  },
  {
   "cell_type": "code",
   "execution_count": 51,
   "source": [
    "q01(myCity,myCountry)"
   ],
   "outputs": [
    {
     "output_type": "stream",
     "name": "stdout",
     "text": [
      "Slovakia 8.48\n",
      "Czech Republic 7.86\n",
      "Hungary 9.60\n",
      "Austria 6.14\n"
     ]
    }
   ],
   "metadata": {}
  },
  {
   "cell_type": "code",
   "execution_count": 52,
   "source": [
    "q02(myCity,myCountry)"
   ],
   "outputs": [
    {
     "output_type": "stream",
     "name": "stdout",
     "text": [
      "The highest average city temperature: Albania (15.18)\n",
      "The lowest average city temperature: Norway (3.73)\n"
     ]
    }
   ],
   "metadata": {}
  }
 ],
 "metadata": {
  "orig_nbformat": 4,
  "language_info": {
   "name": "python",
   "version": "3.9.6",
   "mimetype": "text/x-python",
   "codemirror_mode": {
    "name": "ipython",
    "version": 3
   },
   "pygments_lexer": "ipython3",
   "nbconvert_exporter": "python",
   "file_extension": ".py"
  },
  "kernelspec": {
   "name": "python3",
   "display_name": "Python 3.9.6 64-bit ('latest': conda)"
  },
  "interpreter": {
   "hash": "a8657452b1e74e1d606578a8ca0f0df6233030d9798964361ead33ac28e57a7c"
  }
 },
 "nbformat": 4,
 "nbformat_minor": 2
}